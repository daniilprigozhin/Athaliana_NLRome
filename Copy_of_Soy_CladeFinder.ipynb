{
  "nbformat": 4,
  "nbformat_minor": 0,
  "metadata": {
    "colab": {
      "name": "Copy of Soy_CladeFinder.ipynb",
      "provenance": [],
      "collapsed_sections": [],
      "toc_visible": true,
      "private_outputs": true,
      "include_colab_link": true
    },
    "kernelspec": {
      "name": "python3",
      "display_name": "Python 3"
    },
    "language_info": {
      "name": "python"
    }
  },
  "cells": [
    {
      "cell_type": "markdown",
      "metadata": {
        "id": "view-in-github",
        "colab_type": "text"
      },
      "source": [
        "<a href=\"https://colab.research.google.com/github/daniilprigozhin/NLRome_Align_Tree/blob/main/Copy_of_Soy_CladeFinder.ipynb\" target=\"_parent\"><img src=\"https://colab.research.google.com/assets/colab-badge.svg\" alt=\"Open In Colab\"/></a>"
      ]
    },
    {
      "cell_type": "markdown",
      "source": [
        "This program takes a immunoprotein sequence for Soy, Maize, or Arabidopsis and returns the clade in which this protein lies in relation to known subspecies. We also return a Shannon Entropy model for analyzing highly variable portions of the protein, which can be viewed on Chimera. Please use Chrome for this process to ensure results."
      ],
      "metadata": {
        "id": "PKikS9Sd4VSc"
      }
    },
    {
      "cell_type": "code",
      "metadata": {
        "id": "EMFf1AgmrH5v",
        "cellView": "form"
      },
      "source": [
        "#@title Install Non-Python Dependencies\n",
        "#@markdown This block may take 4-5 minutes. If it says your session crashed, do not be alarmed and continue running the next code block. This is a bug from importing one of the necessary packages onto Colab.\n",
        "\n",
        "!pip install -q condacolab &> /dev/null\n",
        "import condacolab\n",
        "condacolab.install()\n",
        "!conda install -c bioconda hmmer &> /dev/null\n",
        "!conda install -c bioconda mafft &> /dev/null\n",
        "!pip install Bio &> /dev/null\n",
        "from collections import defaultdict\n",
        "from Bio import SearchIO\n",
        "!conda install -c bioconda epa-ng &> /dev/null\n",
        "!conda install -c bioconda gappa &> /dev/null\n",
        "from google.colab import files\n",
        "!pip install toytree &> /dev/null\n",
        "\n",
        "from Bio import AlignIO"
      ],
      "execution_count": null,
      "outputs": []
    },
    {
      "cell_type": "code",
      "source": [
        "#@title Install Python Dependencies\n",
        "!pip install -q gwpy &> /dev/null\n",
        "!conda install -c bioconda hmmer &> /dev/null\n",
        "!conda install -c bioconda mafft &> /dev/null\n",
        "import math\n",
        "import os\n",
        "import pandas as pd\n",
        "import numpy as np\n",
        "import matplotlib.pyplot as plt\n",
        "import toytree       # a tree plotting library\n",
        "import toyplot       # a general plotting library"
      ],
      "metadata": {
        "id": "bjaXw2hyv3h0",
        "cellView": "form"
      },
      "execution_count": null,
      "outputs": []
    },
    {
      "cell_type": "code",
      "metadata": {
        "id": "XpgEVvWF3rO5",
        "cellView": "form"
      },
      "source": [
        "#@title Select Species\n",
        "Species = \"Arabidopsis\" #@param [\"Soy\", \"Arabidopsis\", \"Maize\"]\n",
        "\n",
        "%cd /content\n",
        "!rm -rf NLRome_Align_Tree\n",
        "!git clone https://github.com/daniilprigozhin/NLRome_Align_Tree &> /dev/null\n",
        " \n",
        "%cd NLRome_Align_Tree/\n",
        "if Species == 'Soy':\n",
        "  %cd Soy_NLRome\n",
        "  common = pd.read_csv(\"Soy_NLRome_GeneTable.txt\", sep='\\t')\n",
        "elif Species == \"Arabidopsis\":\n",
        "  %cd Atha_NLRome\n",
        "  common = pd.read_csv(\"Atha_NLRome_GeneTable.txt\", sep = '\\t')\n",
        "else:\n",
        "  %cd Maize_NLRome\n",
        "  common = pd.read_csv(\"Maize_NLRome_GeneTable.txt\", sep = '\\t')\n",
        "\n",
        "\n",
        "clades = common[[\"Clade\", \"File\"]].groupby(\"Clade\").first()\n",
        "!unzip All_Clades.zip"
      ],
      "execution_count": null,
      "outputs": []
    },
    {
      "cell_type": "code",
      "metadata": {
        "id": "poPVyX_F8cPj"
      },
      "source": [
        "# Code used from https://github.com/sokrypton/ColabFold\n",
        "import re\n",
        "import hashlib\n",
        "\n",
        "def add_hash(x,y):\n",
        "  return x+\"_\"+hashlib.sha1(y.encode()).hexdigest()[:5]\n",
        "\n",
        "query_sequence = 'MGSAMSLSCSKRKATSQDLDSESCKRRKTCSTNDAENCRFIPDESSWSLCANRVISVALTKFRFQQDNQESNSSSLSLPSPATSVSRNWKHDVFPSFHGADVRRTFLSHILESFRRKGIDTFIDNNIERSKSIGPELKEAIKGSKIAIVLLSRKYASSSWCLDELAEIMICREVLGQIVMTIFYEVDPTDIKKQTGEFGKAFTKTCRGKPKEQVERWRKALEDVATIAGYHSHKWCDEAEMIEKISTDVSNMLDLSIPSKDFDDFVGMAAHMEMTEQLLRLDLDEVRMIGIWGPPGIGKTTIAACMFDRFSSRFPFAAIMTDIRECYPRLCLNERNAQLKLQEQMLSQIFNQKDTMISHLGVAPERLKDKKVFLVLDEVGHLGQLDALAKETRWFGPGSRIIITTEDLGVLKAHGINHVYKVKSPSNDEAFQIFCMNAFGQKQPCEGFWNLAWEVTCLAGKLPLGLKVLGSALRGMSKPEWERTLPRLKTSLDGNIGSIIQFSFDALCDEDKYLFLYIACLFNNESTTKVEEVLANKFLDVGQGIHVLAQKSLISFEGEEIQMHTLLVQFGRETSRKQFVHHRYTKHQLLVGERDICEVLNDDTIDSRCFIGINLDLSKNEERWNISEKALERMHDFQFVRIGAFYQRKRLSLALQDLIYHSPKLRSLKWYGYQNICLPSTFNPEFLVELDMSFSKLWNLWEGTKQLRNLKWMDLSYSSYLKELPNLSTATNLEELRLSNCSSLVELPSFGNATKLEKLDLENCRSLVKLPAIENATKLRKLKLEDCSSLIELPLSIGTATNLKKLDMNGCSSLVRLPSSIGDMTSLEGFDLSNCSNLVELPSSIGNLRKLALLLMRGCSKLETLPTNINLISLRILDLTDCSRLKSFPEISTHIDSLYLIGTAIKEVPLSIMSWSPLADFQISYFESLKEFPHAFDIITKLQLSKDIQEVPPWVKRMSRLRDLRLNNCNNLVSLPQLPDSLAYLYADNCKSLERLDCCFNNPEISLYFPNCFKLNQEARDLIMHTSTRNFAMLPGTQVPACFNHRATSGDTLKIKLKESPLPTTLRFKACIMLVKGYKEMRYDKIYVGTVIKDEQNDLKVLCTPSSCYIYPVLTEHIYTFELELKEVTSTELVFEFKSFRSNWKIGECGILQR' #@param {type:\"string\"}\n",
        "# remove whitespaces\n",
        "query_sequence = \"\".join(query_sequence.split())\n",
        "query_sequence = re.sub(r'[^a-zA-Z]','', query_sequence).upper()\n",
        "\n",
        "jobname = 'RPP1_NdA' #@param {type:\"string\"}\n",
        "# remove whitespaces\n",
        "jobname = \"\".join(jobname.split())\n",
        "jobname = re.sub(r'\\W+', '', jobname)\n",
        "jobname_unhashed = jobname\n",
        "jobname = add_hash(jobname, query_sequence)\n",
        "\n",
        "%mkdir {jobname}\n",
        "%cd {jobname}\n",
        "\n",
        "\n",
        "with open(f\"{jobname}.fasta\", \"w\") as text_file:\n",
        "    text_file.write(\">\" + jobname_unhashed + \"\\n%s\" % query_sequence)"
      ],
      "execution_count": null,
      "outputs": []
    },
    {
      "cell_type": "code",
      "metadata": {
        "id": "JfTKi1juGfnO"
      },
      "source": [
        "#@title Create an Annotated Tree with your protein included\n",
        "!hmmsearch --domtblout {jobname}.tbl.out ../All_Clades.hmm {jobname}.fasta &> /dev/null\n",
        "\n",
        "filename = jobname + \".tbl.out\"\n",
        "\n",
        "attribs = ['bias', 'bitscore',  'evalue']\n",
        "\n",
        "hits = defaultdict(list)\n",
        "names = []\n",
        "\n",
        "with open(filename) as handle:\n",
        "    for queryresult in SearchIO.parse(handle, 'hmmsearch3-domtab'):\n",
        "      #print(queryresult.id)\n",
        "      #print(queryresult.accession)\n",
        "      #print(queryresult.description)\n",
        "      for hit in queryresult.hsps:\n",
        "        names.append(queryresult.id)\n",
        "        for attrib in attribs:\n",
        "          hits[attrib].append(getattr(hit, attrib))\n",
        "\n",
        "final = pd.DataFrame.from_dict(hits)\n",
        "final[\"Clade\"] = names\n",
        "final.sort_values(\"bitscore\", ascending = False)\n",
        "\n",
        "#common = pd.read_csv(\"Soy_NLRome_GeneTable.txt\", sep='\\t')\n",
        "\n",
        "final_hv = final.set_index(\"Clade\").join(common[[\"Clade\", \"HV\", \"File\"]].groupby(\"Clade\").agg(max), how = 'left', rsuffix = \"_other\").sort_values(\"bitscore\", ascending = False)\n",
        "best_afa_file = final_hv.iloc[0,:][\"File\"]\n",
        "best_afa = \"../\" + best_afa_file\n",
        "\n",
        "!mafft --add {jobname}.fasta --keeplength {best_afa} > {jobname}.updated.afa\n",
        "\n",
        "clade_oi = common[common[\"File\"] == best_afa_file].iloc[0,:][\"Clade\"]\n",
        "tree_oi = best_afa[:best_afa.find(\"Int\")] + \"RAxML_bestTree.\" + clade_oi + \".Raxml.out\"\n",
        "raxml_info_oi = best_afa[:best_afa.find(\"Int\")] + \"RAxML_info.\" + clade_oi + \".Raxml.out\"\n",
        "\n",
        "!epa-ng --split {best_afa} {jobname}.updated.afa --tree {tree_oi} --model {raxml_info_oi}\n",
        "!cut -f1 -d ' ' {best_afa} > best_afa_f.afa\n",
        "!epa-ng --ref-msa best_afa_f.afa --tree {tree_oi} -q query.fasta --model {raxml_info_oi} --redo\n",
        "\n",
        "!gappa examine graft --jplace-path ./ &> /dev/null\n",
        "\n",
        "tree_created = True\n",
        "\n",
        "is_hv = final_hv.iloc[0,:][\"HV\"] == 1"
      ],
      "execution_count": null,
      "outputs": []
    },
    {
      "cell_type": "code",
      "source": [
        "#@title View tree\n",
        "directory = os.getcwd()\n",
        "file_name = directory + \"/epa_result.newick\" \n",
        "tre = toytree.tree(file_name)\n",
        "colorlist = [\"#d6557c\" if jobname_unhashed in tip else \"#5384a3\" for tip in tre.get_tip_labels()]\n",
        "\n",
        "tre.draw(tip_labels_align=False,layout='d',tip_labels_colors=colorlist,tip_labels_style={\"font-size\": \"8px\"});"
      ],
      "metadata": {
        "id": "ZerxoYZcmTag"
      },
      "execution_count": null,
      "outputs": []
    },
    {
      "cell_type": "code",
      "source": [
        "#@title This block will tell you if your sequence falls within a highly variable clade.\n",
        "if is_hv:\n",
        "  print(\"Your protein belongs to a highly variable clade.\")\n",
        "else:\n",
        "  print(\"Your protein is not in a highly variable clade.\")\n"
      ],
      "metadata": {
        "cellView": "form",
        "id": "HrnvMN0D4N1l"
      },
      "execution_count": null,
      "outputs": []
    },
    {
      "cell_type": "code",
      "source": [
        "#@title Above ends the process of tree creation. Here we create a Shannon Entropy model (receommended for proteins in highly variable clades), and print the graphed entropy results.\n",
        "def entropy(string):\n",
        "    \"Calculates the Shannon entropy of a string\"\n",
        "    string = string.replace(\"-\",\"\")\n",
        "    # get probability of chars in string\n",
        "    prob = [ float(string.count(c)) / len(string) for c in dict.fromkeys(list(\"ARNDCQEGHILKMFPSTWYV\")) ]\n",
        "\n",
        "    # calculate the entropy\n",
        "    entropy = - sum([ p * math.log(p) / math.log(2.0) for p in prob if p > 0])\n",
        "\n",
        "    return entropy\n",
        "\n",
        "gene = query_sequence\n",
        "cn = jobname_unhashed\n",
        "file_oi = jobname + \".updated.afa\"\n",
        "\n",
        "align = AlignIO.read(file_oi, \"fasta\")\n",
        "\n",
        "length = len(align[1,:])\n",
        "entropies = []\n",
        "for i in range(length):\n",
        "  col = align[:,i]\n",
        "  if col[len(align) - 1] == \"-\":\n",
        "    continue\n",
        "  entropies.append(entropy(col))\n",
        "\n",
        "f = open(jobname+\"_Chimera_Entropy.txt\", \"w\")\n",
        "f.write(\"attribute: shannonEntropy\\n\")\n",
        "f.write(\"match mode: 1-to-1\\n\")\n",
        "f.write(\"recipient: residues\\n\")\n",
        "for i in range(1,len(entropies)+1):\n",
        "  f.write(\"\\t:\")\n",
        "  f.write(str(i))\n",
        "  f.write(\"\\t\")\n",
        "  f.write(str(entropies[i-1]))\n",
        "  f.write(\"\\n\")\n",
        "\n",
        "ylim = max(max(entropies), 2.5)\n",
        "\n",
        "plt.ylim(0,ylim);\n",
        "plt.plot(entropies);\n",
        "plt.xlabel(\"Residue Number\");\n",
        "plt.ylabel(\"Entropy (bits)\");\n",
        "plt.title(\"Shannon Entropy of \"+jobname_unhashed);\n",
        "plt.savefig(jobname + \"_Entropy_MaskedNG\");\n",
        "\n",
        "shannon_created = True"
      ],
      "metadata": {
        "id": "8jQ1PVHumQPY",
        "cellView": "form"
      },
      "execution_count": null,
      "outputs": []
    },
    {
      "cell_type": "code",
      "source": [
        "#@title Download Results\n",
        "#@markdown Our assembled zip file contains the tree created in Newick format and an updated aligned fasta format of your sequence against all other proteins in your species. \\\n",
        "#@markdown \\\n",
        "#@markdown If a Shannon Entropy model was generated, it also includes the Chimera-formatted entropy mapping, as well as the graph generated above of entropy per residue. \\\n",
        "#@markdown \\\n",
        "#@markdown If you are having issues downloading the result, try disabling your adblocker and run this cell again. If that fails click on the folder icon to the left, navigate to /content, and manually download {jobname}_results.zip.\n",
        "\n",
        "new_folder = jobname_unhashed + \"_results\"\n",
        "!mkdir {new_folder}\n",
        "!mv {jobname}.updated.afa {new_folder}\n",
        "!mv epa_result.newick {new_folder}\n",
        "if shannon_created:\n",
        "  %mv {jobname}_Chimera_Entropy.txt {new_folder}\n",
        "  %mv {jobname}_Entropy_MaskedNG.png {new_folder}\n",
        "\n",
        "!mv {new_folder} ../../../\n",
        "%cd /content\n",
        "!zip -r {new_folder}.zip {new_folder}\n",
        "res = new_folder + \".zip\"\n",
        "files.download(res)"
      ],
      "metadata": {
        "cellView": "form",
        "id": "t_WrYFpewM-d"
      },
      "execution_count": null,
      "outputs": []
    },
    {
      "cell_type": "markdown",
      "source": [
        "**Sources:**"
      ],
      "metadata": {
        "id": "jjRU5Eh-57jS"
      }
    }
  ]
}