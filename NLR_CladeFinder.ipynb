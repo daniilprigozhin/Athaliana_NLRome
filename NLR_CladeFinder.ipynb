{
  "nbformat": 4,
  "nbformat_minor": 0,
  "metadata": {
    "colab": {
      "provenance": [],
      "collapsed_sections": [],
      "include_colab_link": true
    },
    "kernelspec": {
      "name": "python3",
      "display_name": "Python 3"
    },
    "language_info": {
      "name": "python"
    }
  },
  "cells": [
    {
      "cell_type": "markdown",
      "metadata": {
        "id": "view-in-github",
        "colab_type": "text"
      },
      "source": [
        "<a href=\"https://colab.research.google.com/github/daniilprigozhin/NLRome_Align_Tree/blob/main/NLR_CladeFinder.ipynb\" target=\"_parent\"><img src=\"https://colab.research.google.com/assets/colab-badge.svg\" alt=\"Open In Colab\"/></a>"
      ]
    },
    {
      "cell_type": "markdown",
      "source": [
        "This program takes an immunoprotein sequence for Soy, Maize, or Arabidopsis and returns the clade in which this protein lies in relation to known subspecies. We also return a Shannon Entropy model for analyzing highly variable portions of the protein, which can be viewed on Chimera. Please use Chrome for this process to ensure results.\n",
        "\n",
        "If the program errors out, please re-run the program from the first cell."
      ],
      "metadata": {
        "id": "PKikS9Sd4VSc"
      }
    },
    {
      "cell_type": "code",
      "metadata": {
        "id": "EMFf1AgmrH5v",
        "cellView": "form",
        "colab": {
          "base_uri": "https://localhost:8080/"
        },
        "outputId": "35f84248-9d0c-4d5b-aea1-9a53a8e47ffa"
      },
      "source": [
        "#@title Install Non-Python Dependencies\n",
        "#@markdown This block may take 4-5 minutes. If it says your session crashed, do not be alarmed and rerun this code block before running the next code block. This is a bug from importing one of the necessary packages onto Colab.\n",
        "\n",
        "!pip install -q condacolab &> /dev/null\n",
        "import condacolab\n",
        "condacolab.install()\n",
        "!conda install -c bioconda hmmer &> /dev/null\n",
        "!conda install -c bioconda mafft &> /dev/null\n",
        "!pip install Bio &> /dev/null\n",
        "from collections import defaultdict\n",
        "from Bio import SearchIO\n",
        "!conda install -c bioconda epa-ng &> /dev/null\n",
        "!conda install -c bioconda gappa &> /dev/null\n",
        "from google.colab import files\n",
        "!pip install toytree &> /dev/null\n",
        "\n",
        "from Bio import AlignIO"
      ],
      "execution_count": null,
      "outputs": [
        {
          "output_type": "stream",
          "name": "stdout",
          "text": [
            "✨🍰✨ Everything looks OK!\n"
          ]
        }
      ]
    },
    {
      "cell_type": "code",
      "source": [
        "#@title Install Python Dependencies\n",
        "!pip install -q gwpy &> /dev/null\n",
        "!conda install -c bioconda hmmer &> /dev/null\n",
        "!conda install -c bioconda mafft &> /dev/null\n",
        "import math\n",
        "import os\n",
        "import pandas as pd\n",
        "import numpy as np\n",
        "import matplotlib.pyplot as plt\n",
        "import toytree       # a tree plotting library\n",
        "import toyplot       # a general plotting library"
      ],
      "metadata": {
        "id": "bjaXw2hyv3h0",
        "cellView": "form"
      },
      "execution_count": null,
      "outputs": []
    },
    {
      "cell_type": "code",
      "metadata": {
        "id": "XpgEVvWF3rO5",
        "cellView": "form",
        "colab": {
          "base_uri": "https://localhost:8080/"
        },
        "outputId": "131f500e-6010-4f40-d449-3f7a0f7edb6e"
      },
      "source": [
        "#@title Select Species\n",
        "Species = \"Maize\" #@param [\"Soy\", \"Arabidopsis\", \"Maize\"]\n",
        "\n",
        "%cd /content\n",
        "!rm -rf NLRome_Align_Tree\n",
        "!git clone https://github.com/daniilprigozhin/NLRome_Align_Tree &> /dev/null\n",
        " \n",
        "%cd NLRome_Align_Tree/\n",
        "if Species == 'Soy':\n",
        "  %cd Soy_NLRome\n",
        "  common = pd.read_csv(\"Soy_NLRome_GeneTable.txt\", sep='\\t')\n",
        "elif Species == \"Arabidopsis\":\n",
        "  %cd Atha_NLRome\n",
        "  common = pd.read_csv(\"Atha_NLRome_GeneTable.txt\", sep = '\\t')\n",
        "else:\n",
        "  %cd Maize_NLRome\n",
        "  common = pd.read_csv(\"Maize_NLRome_GeneTable.txt\", sep = '\\t')\n",
        "\n",
        "\n",
        "clades = common[[\"Clade\", \"File\"]].groupby(\"Clade\").first()\n",
        "!unzip All_Clades.zip"
      ],
      "execution_count": null,
      "outputs": [
        {
          "output_type": "stream",
          "name": "stdout",
          "text": [
            "/content\n",
            "/content/NLRome_Align_Tree\n",
            "/content/NLRome_Align_Tree/Maize_NLRome\n",
            "Archive:  All_Clades.zip\n",
            "  inflating: All_Clades.hmm          \n"
          ]
        }
      ]
    },
    {
      "cell_type": "code",
      "metadata": {
        "id": "poPVyX_F8cPj",
        "cellView": "form",
        "colab": {
          "base_uri": "https://localhost:8080/"
        },
        "outputId": "7e0044e7-a926-425b-a6af-0118dedc51d1"
      },
      "source": [
        "# Code used from https://github.com/sokrypton/ColabFold\n",
        "import re\n",
        "import hashlib\n",
        "\n",
        "def add_hash(x,y):\n",
        "  return x+\"_\"+hashlib.sha1(y.encode()).hexdigest()[:5]\n",
        "\n",
        "query_sequence = 'MEVALGTAKSLLGHVLN SISDDWMKSYVSSAELGTNLNMIKEKMRYARALLDVAKGRDDVVAGNPNLLEQLETLGKKVDEAE  DAVDELHYFMIQDKHDGTRDAAPELGGGLAAQAHHARHAARHTAGNWLSCFSGCCTRDNAAATDAMSGDGGHVGKLSFN  RVAMSNKIKLLIEELQSNSTPVSDLLKIVSDTTNFSSSTKRPPTSSQITQDKLFGRDAIFKKTIDDIIIAKDSGKTLSVLPIFGLGGI GKTRFTQHLYNHTEFEKYFTVRVWICVSTNFDVLRLTKEILSCLPATENAGDKIANDTTNFDLLQKSIAERLKSKRFLIVLDDIW  ECSNNEEWEKLVAPFKKNDTSGNMILVTTRFPKIVDLVKKETNPVDLRGLDPDEFWKFFQICAFGSIQDVEHGDQELIGIARQ  IADKLKCSPLAAKTVGRLLIKKPLQEHWMKILENKQWLEEKNGDDIIPALQISYDYLPFHLKKCFSSFALFPEDYKFDKSEIIRL   WDSIGIIGSSIQQKKIEDIGSNYFDELLDSCFLIKGENDFYVMHDLILDLSRTVSKQDCAYIDCSSFEANNIPQSIRYLSISMHNH   CAQNFEEEMAKLKERIDIKNLRGLMIFGNYIRLQLVNILRDTFKEIRRLRVLSIFIYSHSSLPNNFSELIHLRYLKLNSPSYLEISL   PNTISRFYHLKFLDLKQWGSDRSLPKDISRLENLRHFIASKEFHTNVPEVGKMKFLQELKEFHVKKESVGFELGELGKLAELG   GELNILGLEKVRTEQEAKDAKLMSKRNLVELGLVWNTKQESTSTVDDILDSMQPHSNVRRLFIVNHGGTIGPSWLCSNSNIY   MKNLETLHLESVSWANLPPIGQFNHLRKLRLSKIVGISQIGPGFFGSTTEKSVSHLKAVEFNDMPELVEWVGGASWNIFSGIE   RIKCTNCPRLTGLLISDWSISSIEDNTVWFPNLHDLYINECPKLCLPPLPHTSKVSHIRMGDFSYEGRTMLEINNPSRFAFENL   GDLEKLIVSNALLLSFMDLKKLHSLRHIEVNRCEETFLRGLDDGVVLPTVQSLKLGQFTPTKKSMSNLFKCFPALSSLDVMAS   LSDEDHEEVVLHFPPSSSLRDVTFKGCKNLILPMEEEAGFCGLLSLESVTIRKCDKLFSRWSITGRAAQTQTQSIINPLPPYLR   KLSLYYMETLPQEALLANLTSLEKLTLDNCLGCEQSTERMALPANLASLTSLELVDCRNITMDGFDPRITFSLESLRVYNKRK   HGTDPYSVAADLLVAVVRTKTMPDVSFKLVSIDVDSISGVLVAPICRLLSATLGALKFRNDWRTENFTKEQNEAFQLLTSLVFL   EFDNCMALQSLPQGLHRHPSLKVILIWEPQKIISLPKEGLPDSLRVLQISHCCAELYEACQRLKGTRPDIEVLAHKADVQN' #@param {type:\"string\"}\n",
        "# remove whitespaces\n",
        "query_sequence = \"\".join(query_sequence.split())\n",
        "query_sequence = re.sub(r'[^a-zA-Z]','', query_sequence).upper()\n",
        "\n",
        "jobname = 'RppC' #@param {type:\"string\"}\n",
        "# remove whitespaces\n",
        "jobname = \"\".join(jobname.split())\n",
        "jobname = re.sub(r'\\W+', '', jobname)\n",
        "jobname_unhashed = jobname\n",
        "jobname = add_hash(jobname, query_sequence)\n",
        "\n",
        "%mkdir {jobname}\n",
        "%cd {jobname}\n",
        "\n",
        "\n",
        "with open(f\"{jobname}.fasta\", \"w\") as text_file:\n",
        "    text_file.write(\">\" + jobname_unhashed + \"\\n%s\" % query_sequence)"
      ],
      "execution_count": null,
      "outputs": [
        {
          "output_type": "stream",
          "name": "stdout",
          "text": [
            "/content/NLRome_Align_Tree/Maize_NLRome/RppC_9c750\n"
          ]
        }
      ]
    },
    {
      "cell_type": "code",
      "metadata": {
        "id": "JfTKi1juGfnO",
        "cellView": "form",
        "colab": {
          "base_uri": "https://localhost:8080/"
        },
        "outputId": "8613457d-6be5-485d-aaa4-d4c4ffe2cf89"
      },
      "source": [
        "#@title Create an Annotated Tree with your protein included\n",
        "!hmmsearch --domtblout {jobname}.tbl.out ../All_Clades.hmm {jobname}.fasta &> /dev/null\n",
        "\n",
        "filename = jobname + \".tbl.out\"\n",
        "\n",
        "attribs = ['bias', 'bitscore',  'evalue']\n",
        "\n",
        "hits = defaultdict(list)\n",
        "names = []\n",
        "\n",
        "with open(filename) as handle:\n",
        "    for queryresult in SearchIO.parse(handle, 'hmmsearch3-domtab'):\n",
        "      #print(queryresult.id)\n",
        "      #print(queryresult.accession)\n",
        "      #print(queryresult.description)\n",
        "      for hit in queryresult.hsps:\n",
        "        names.append(queryresult.id)\n",
        "        for attrib in attribs:\n",
        "          hits[attrib].append(getattr(hit, attrib))\n",
        "\n",
        "final = pd.DataFrame.from_dict(hits)\n",
        "final[\"Clade\"] = names\n",
        "final.sort_values(\"bitscore\", ascending = False)\n",
        "\n",
        "#common = pd.read_csv(\"Soy_NLRome_GeneTable.txt\", sep='\\t')\n",
        "\n",
        "final_hv = final.set_index(\"Clade\").join(common[[\"Clade\", \"HV\", \"File\"]].groupby(\"Clade\").agg(max), how = 'left', rsuffix = \"_other\").sort_values(\"bitscore\", ascending = False)\n",
        "best_afa_file = final_hv.iloc[0,:][\"File\"]\n",
        "best_afa = \"../\" + best_afa_file\n",
        "\n",
        "!mafft --add {jobname}.fasta --keeplength {best_afa} > {jobname}.updated.afa\n",
        "\n",
        "clade_oi = common[common[\"File\"] == best_afa_file].iloc[0,:][\"Clade\"]\n",
        "tree_oi = best_afa[:best_afa.find(\"Int\")] + \"RAxML_bestTree.\" + clade_oi + \".Raxml.out\"\n",
        "raxml_info_oi = best_afa[:best_afa.find(\"Int\")] + \"RAxML_info.\" + clade_oi + \".Raxml.out\"\n",
        "\n",
        "!epa-ng --split {best_afa} {jobname}.updated.afa --tree {tree_oi} --model {raxml_info_oi}\n",
        "!cut -f1 -d ' ' {best_afa} > best_afa_f.afa\n",
        "!epa-ng --ref-msa best_afa_f.afa --tree {tree_oi} -q query.fasta --model {raxml_info_oi} --redo\n",
        "\n",
        "!gappa examine graft --jplace-path ./ &> /dev/null\n",
        "\n",
        "tree_created = True\n",
        "\n",
        "is_hv = final_hv.iloc[0,:][\"HV\"] == 1"
      ],
      "execution_count": null,
      "outputs": [
        {
          "output_type": "stream",
          "name": "stdout",
          "text": [
            "nadd = 1\n",
            "nthread = 0\n",
            "nthreadpair = 0\n",
            "nthreadtb = 0\n",
            "ppenalty_ex = 0\n",
            "stacksize: 8192 kb\n",
            "rescale = 1\n",
            "Gap Penalty = -1.53, +0.00, +0.00\n",
            "\n",
            "\n",
            "\n",
            "Making a distance matrix ..\n",
            "\r    1 / 62\n",
            "done.\n",
            "\n",
            "Constructing a UPGMA tree (efffree=0) ... \n",
            "\r    0 / 62\r   10 / 62\r   20 / 62\r   30 / 62\r   40 / 62\r   50 / 62\r   60 / 62\n",
            "done.\n",
            "\n",
            "Progressive alignment 1/2... \n",
            "\rSTEP    14 / 61  f\b\b\n",
            "done.\n",
            "\n",
            "Making a distance matrix from msa.. \n",
            "\r    0 / 62\n",
            "done.\n",
            "\n",
            "Constructing a UPGMA tree (efffree=1) ... \n",
            "\r    0 / 62\r   10 / 62\r   20 / 62\r   30 / 62\r   40 / 62\r   50 / 62\r   60 / 62\n",
            "done.\n",
            "\n",
            "Progressive alignment 2/2... \n",
            "\rSTEP    12 / 61  f\b\b\n",
            "done.\n",
            "\n",
            "disttbfast (aa) Version 7.505\n",
            "alg=A, model=BLOSUM62, 1.53, -0.00, -0.00, noshift, amax=0.0\n",
            "0 thread(s)\n",
            "\n",
            "\n",
            "Strategy:\n",
            " FFT-NS-2 (Fast but rough)\n",
            " Progressive method (guide trees were built 2 times.)\n",
            "\n",
            "If unsure which option to use, try 'mafft --auto input > output'.\n",
            "For more information, see 'mafft --help', 'mafft --man' and the mafft page.\n",
            "\n",
            "The default gap scoring scheme has been changed in version 7.110 (2013 Oct).\n",
            "It tends to insert more gaps into gap-rich regions than previous versions.\n",
            "To disable this change, add the --leavegappyregion option.\n",
            "\n",
            "INFO Splitting files based on reference: ../RAxML_tree_pbNB-ARC/Clade_Refinement_3/Int6329_131_253_L_122_209_L_80_142_L_61.afa\n",
            "INFO Selected: Output dir: ./\n",
            "INFO Selected: Query file: query.fasta\n",
            "INFO Selected: Tree file: ../RAxML_tree_pbNB-ARC/Clade_Refinement_3/RAxML_bestTree.Int6329_131_253_L_122_209_L_80_142_L_61.Raxml.out\n",
            "INFO Selected: Reference MSA: best_afa_f.afa\n",
            "INFO Selected: Automatic switching of use of per rate scalers\n",
            "INFO Selected: Preserving the root of the input tree\n",
            "INFO Selected: Specified model file: ../RAxML_tree_pbNB-ARC/Clade_Refinement_3/RAxML_info.Int6329_131_253_L_122_209_L_80_142_L_61.Raxml.out\n",
            "INFO     ______ ____   ___           _   __ ______\n",
            "        / ____// __ \\ /   |         / | / // ____/\n",
            "       / __/  / /_/ // /| | ______ /  |/ // / __  \n",
            "      / /___ / ____// ___ |/_____// /|  // /_/ /  \n",
            "     /_____//_/    /_/  |_|      /_/ |_/ \\____/ (v0.3.8)\n",
            "INFO Using model parameters:\n",
            "INFO    Rate heterogeneity: GAMMA (4 cats, mean),  alpha: 0.275163 (user),  weights&rates: (0.25,0.00349727) (0.25,0.0853723) (0.25,0.551637) (0.25,3.35949) \n",
            "        Base frequencies (user): 0.076748 0.051691 0.042645 0.051544 0.019803 0.040752 0.06183 0.073152 0.022944 0.053761 0.091904 0.058676 0.023826 0.040126 0.050901 0.068765 0.058565 0.014261 0.032102 0.066004 \n",
            "        Substitution rates (user): 3.62501 3.37501 5.06251 3.5 3.5625 6.56251 11.1875 1.6875 2.25 1.875 2.1875 3.37501 0.937499 12.125 23.625 29.6875 0.562498 0.6875 18.625 2.8125 1 7.06251 19.375 1.8125 8.56251 20.5 1.375 2.375 40.3751 2.75 0.3125 4.62501 6.31251 4.00001 7.87501 1.25 1.0625 33 2.125 5.37501 3.62501 5.06251 24.4375 2.9375 0.750002 16.4375 1.875 0.624999 0.937499 31.4375 14.5 0.500003 4.37501 1 0.624999 3.06251 47.9376 8.12501 7.00001 0.6875 0.437502 1.62501 0.937499 0.249998 0.937499 3.68751 2.375 0.249998 2.875 1.9375 0.562498 0.3125 3.68751 4.31251 1.0625 1.4375 0.437502 1.9375 4.87501 0.875004 13.9375 2.62501 7.18751 13.0625 3.875 20.1875 1.62501 37.3126 0.562498 4.50001 18.25 2.68751 0.249998 10.25 3.31251 3.1875 1.125 1.5 1.25 7.43751 1.62501 0.750002 0.562498 11.3125 1.125 0.3125 1.125 1.875 2 0.624999 0.437502 2.8125 1.4375 0.375001 0.375001 1.6875 0.875004 0.3125 1.5 12.5625 2.0625 3.4375 0.500003 2.9375 1 3.5 2.8125 2.0625 2.5 7.18751 4.5625 2.875 0.500003 35.8126 0.6875 14.3125 1.3125 29.9375 5.56251 0.624999 2.5 15.3125 0.562498 2 60.0626 0.875004 24.25 15.5 6.37501 3.68751 1.5625 3.25 1.5 11.25 4.06251 0.249998 1.3125 2.9375 6.43751 0.624999 0.500003 0.875004 2.68751 1 1.8125 14.125 1.5 1.125 20.1875 1.0625 5.75001 0.750002 3.31251 33.5 3.875 17.8125 7.37501 0.375001 0.624999 1.4375 29.8125 2.1875 3.9375 2.375 0.750002 1.3125 7.00001 4.43751 1.5625 1\n",
            "INFO Output file: ./epa_result.jplace\n",
            "INFO 1 Sequences done!\n",
            "INFO Time spent placing: 0s\n",
            "INFO Elapsed Time: 0s\n"
          ]
        }
      ]
    },
    {
      "cell_type": "code",
      "source": [
        "#@title View tree\n",
        "#@markdown Large trees may not display well, consider viewing in an external site.\n",
        "directory = os.getcwd()\n",
        "file_name = directory + \"/epa_result.newick\" \n",
        "tre = toytree.tree(file_name)\n",
        "tre.draw(tip_labels=True);"
      ],
      "metadata": {
        "id": "ZerxoYZcmTag",
        "cellView": "form",
        "colab": {
          "base_uri": "https://localhost:8080/",
          "height": 1000
        },
        "outputId": "1d60741a-a673-4682-f5d2-f6c81cc19a61"
      },
      "execution_count": null,
      "outputs": [
        {
          "output_type": "display_data",
          "data": {
            "text/html": [
              "<div class=\"toyplot\" id=\"t043fdf2f4b86418c9378cb4ac8f4e58a\" style=\"text-align:center\"><svg class=\"toyplot-canvas-Canvas\" height=\"1000.0px\" id=\"te049796a742a46ac84291c07221cc0ed\" preserveAspectRatio=\"xMidYMid meet\" style=\"background-color:transparent;border-color:#292724;border-style:none;border-width:1.0;fill:rgb(16.1%,15.3%,14.1%);fill-opacity:1.0;font-family:Helvetica;font-size:12px;opacity:1.0;stroke:rgb(16.1%,15.3%,14.1%);stroke-opacity:1.0;stroke-width:1.0\" viewBox=\"0 0 350.0 1000.0\" width=\"350.0px\" xmlns=\"http://www.w3.org/2000/svg\" xmlns:toyplot=\"http://www.sandia.gov/toyplot\" xmlns:xlink=\"http://www.w3.org/1999/xlink\"><g class=\"toyplot-coordinates-Cartesian\" id=\"tcdefa4f3b78b44048554fa956333aaa0\"><clipPath id=\"tfc643bab20f5490db5935e76e2f6dbe5\"><rect height=\"940.0\" width=\"290.0\" x=\"30.0\" y=\"30.0\"></rect></clipPath><g clip-path=\"url(#tfc643bab20f5490db5935e76e2f6dbe5)\"><g class=\"toytree-mark-Toytree\" id=\"td2da4d4556454d00b6b28aa68e57eac3\"><g class=\"toytree-Edges\" style=\"fill:none;stroke:rgb(14.9%,14.9%,14.9%);stroke-linecap:round;stroke-opacity:1;stroke-width:2\"><path d=\"M 51.0 102.3 L 51.0 168.1 L 51.0 168.1\" id=\"121,120\"></path><path d=\"M 51.0 168.1 L 51.0 98.1 L 51.0 98.1\" id=\"120,119\"></path><path d=\"M 51.0 168.1 L 51.0 238.0 L 69.7 238.0\" id=\"120,118\"></path><path d=\"M 69.7 238.0 L 69.7 132.2 L 78.7 132.2\" id=\"118,117\"></path><path d=\"M 69.7 238.0 L 69.7 343.8 L 80.0 343.8\" id=\"118,116\"></path><path d=\"M 78.7 132.2 L 78.7 144.8 L 83.2 144.8\" id=\"117,115\"></path><path d=\"M 80.0 343.8 L 80.0 215.8 L 81.3 215.8\" id=\"116,114\"></path><path d=\"M 80.0 343.8 L 80.0 471.8 L 85.3 471.8\" id=\"116,113\"></path><path d=\"M 83.2 144.8 L 83.2 155.5 L 85.1 155.5\" id=\"115,112\"></path><path d=\"M 81.3 215.8 L 81.3 184.3 L 115.8 184.3\" id=\"114,111\"></path><path d=\"M 81.3 215.8 L 81.3 247.4 L 93.8 247.4\" id=\"114,110\"></path><path d=\"M 85.3 471.8 L 85.3 551.3 L 91.4 551.3\" id=\"113,109\"></path><path d=\"M 93.8 247.4 L 93.8 213.0 L 124.6 213.0\" id=\"110,108\"></path><path d=\"M 93.8 247.4 L 93.8 281.8 L 102.3 281.8\" id=\"110,107\"></path><path d=\"M 91.4 551.3 L 91.4 425.5 L 96.9 425.5\" id=\"109,106\"></path><path d=\"M 91.4 551.3 L 91.4 677.0 L 110.7 677.0\" id=\"109,105\"></path><path d=\"M 102.3 281.8 L 102.3 247.0 L 108.3 247.0\" id=\"107,104\"></path><path d=\"M 102.3 281.8 L 102.3 316.6 L 128.4 316.6\" id=\"107,103\"></path><path d=\"M 96.9 425.5 L 96.9 444.4 L 102.0 444.4\" id=\"106,102\"></path><path d=\"M 110.7 677.0 L 110.7 565.3 L 114.0 565.3\" id=\"105,101\"></path><path d=\"M 110.7 677.0 L 110.7 788.8 L 117.4 788.8\" id=\"105,100\"></path><path d=\"M 108.3 247.0 L 108.3 259.6 L 119.1 259.6\" id=\"104,99\"></path><path d=\"M 128.4 316.6 L 128.4 299.1 L 159.6 299.1\" id=\"103,98\"></path><path d=\"M 128.4 316.6 L 128.4 334.1 L 168.5 334.1\" id=\"103,97\"></path><path d=\"M 102.0 444.4 L 102.0 467.7 L 108.7 467.7\" id=\"102,96\"></path><path d=\"M 114.0 565.3 L 114.0 528.7 L 151.4 528.7\" id=\"101,95\"></path><path d=\"M 114.0 565.3 L 114.0 601.8 L 117.2 601.8\" id=\"101,94\"></path><path d=\"M 117.4 788.8 L 117.4 741.3 L 121.4 741.3\" id=\"100,93\"></path><path d=\"M 117.4 788.8 L 117.4 836.4 L 133.6 836.4\" id=\"100,92\"></path><path d=\"M 119.1 259.6 L 119.1 270.4 L 125.1 270.4\" id=\"99,91\"></path><path d=\"M 168.5 334.1 L 168.5 347.5 L 171.2 347.5\" id=\"97,90\"></path><path d=\"M 108.7 467.7 L 108.7 446.2 L 120.2 446.2\" id=\"96,89\"></path><path d=\"M 108.7 467.7 L 108.7 489.2 L 112.8 489.2\" id=\"96,88\"></path><path d=\"M 117.2 601.8 L 117.2 562.8 L 123.2 562.8\" id=\"94,87\"></path><path d=\"M 117.2 601.8 L 117.2 640.8 L 135.1 640.8\" id=\"94,86\"></path><path d=\"M 121.4 741.3 L 121.4 718.9 L 144.2 718.9\" id=\"93,85\"></path><path d=\"M 121.4 741.3 L 121.4 763.7 L 135.4 763.7\" id=\"93,84\"></path><path d=\"M 133.6 836.4 L 133.6 864.2 L 133.6 864.2\" id=\"92,83\"></path><path d=\"M 171.2 347.5 L 171.2 360.1 L 171.2 360.1\" id=\"90,82\"></path><path d=\"M 120.2 446.2 L 120.2 456.9 L 140.1 456.9\" id=\"89,81\"></path><path d=\"M 112.8 489.2 L 112.8 500.0 L 123.3 500.0\" id=\"88,80\"></path><path d=\"M 123.2 562.8 L 123.2 575.3 L 126.3 575.3\" id=\"87,79\"></path><path d=\"M 135.1 640.8 L 135.1 618.4 L 167.1 618.4\" id=\"86,78\"></path><path d=\"M 135.1 640.8 L 135.1 663.3 L 173.8 663.3\" id=\"86,77\"></path><path d=\"M 144.2 718.9 L 144.2 729.6 L 146.1 729.6\" id=\"85,76\"></path><path d=\"M 135.4 763.7 L 135.4 776.3 L 151.7 776.3\" id=\"84,75\"></path><path d=\"M 133.6 864.2 L 133.6 833.7 L 138.9 833.7\" id=\"83,74\"></path><path d=\"M 133.6 864.2 L 133.6 894.7 L 150.0 894.7\" id=\"83,73\"></path><path d=\"M 171.2 360.1 L 171.2 370.8 L 171.2 370.8\" id=\"82,72\"></path><path d=\"M 126.3 575.3 L 126.3 586.1 L 159.8 586.1\" id=\"79,71\"></path><path d=\"M 167.1 618.4 L 167.1 629.2 L 167.1 629.2\" id=\"78,70\"></path><path d=\"M 173.8 663.3 L 173.8 675.8 L 176.1 675.8\" id=\"77,69\"></path><path d=\"M 151.7 776.3 L 151.7 787.0 L 155.3 787.0\" id=\"75,68\"></path><path d=\"M 138.9 833.7 L 138.9 844.5 L 144.0 844.5\" id=\"74,67\"></path><path d=\"M 150.0 894.7 L 150.0 873.2 L 158.4 873.2\" id=\"73,66\"></path><path d=\"M 150.0 894.7 L 150.0 916.2 L 155.2 916.2\" id=\"73,65\"></path><path d=\"M 176.1 675.8 L 176.1 686.6 L 176.1 686.6\" id=\"69,64\"></path><path d=\"M 155.2 916.2 L 155.2 901.9 L 155.2 901.9\" id=\"65,63\"></path><path d=\"M 155.2 916.2 L 155.2 930.6 L 155.2 930.6\" id=\"65,62\"></path><path d=\"M 51.0 102.3 L 51.0 62.3 L 51.0 62.3\" id=\"121,61\"></path><path d=\"M 51.0 102.3 L 51.0 76.6 L 51.0 76.6\" id=\"121,60\"></path><path d=\"M 51.0 98.1 L 51.0 91.0 L 51.0 91.0\" id=\"119,59\"></path><path d=\"M 51.0 98.1 L 51.0 105.3 L 51.0 105.3\" id=\"119,58\"></path><path d=\"M 78.7 132.2 L 78.7 119.7 L 102.3 119.7\" id=\"117,57\"></path><path d=\"M 83.2 144.8 L 83.2 134.0 L 97.4 134.0\" id=\"115,56\"></path><path d=\"M 85.1 155.5 L 85.1 148.4 L 86.3 148.4\" id=\"112,55\"></path><path d=\"M 85.1 155.5 L 85.1 162.7 L 91.3 162.7\" id=\"112,54\"></path><path d=\"M 115.8 184.3 L 115.8 177.1 L 115.8 177.1\" id=\"111,53\"></path><path d=\"M 115.8 184.3 L 115.8 191.4 L 115.8 191.4\" id=\"111,52\"></path><path d=\"M 124.6 213.0 L 124.6 205.8 L 124.6 205.8\" id=\"108,51\"></path><path d=\"M 124.6 213.0 L 124.6 220.1 L 124.6 220.1\" id=\"108,50\"></path><path d=\"M 108.3 247.0 L 108.3 234.5 L 122.9 234.5\" id=\"104,49\"></path><path d=\"M 119.1 259.6 L 119.1 248.8 L 119.1 248.8\" id=\"99,48\"></path><path d=\"M 125.1 270.4 L 125.1 263.2 L 125.1 263.2\" id=\"91,47\"></path><path d=\"M 125.1 270.4 L 125.1 277.5 L 125.1 277.5\" id=\"91,46\"></path><path d=\"M 159.6 299.1 L 159.6 291.9 L 163.3 291.9\" id=\"98,45\"></path><path d=\"M 159.6 299.1 L 159.6 306.2 L 174.8 306.2\" id=\"98,44\"></path><path d=\"M 168.5 334.1 L 168.5 320.6 L 174.2 320.6\" id=\"97,43\"></path><path d=\"M 171.2 347.5 L 171.2 334.9 L 171.9 334.9\" id=\"90,42\"></path><path d=\"M 171.2 360.1 L 171.2 349.3 L 171.2 349.3\" id=\"82,41\"></path><path d=\"M 171.2 370.8 L 171.2 363.7 L 171.2 363.7\" id=\"72,40\"></path><path d=\"M 171.2 370.8 L 171.2 378.0 L 171.2 378.0\" id=\"72,39\"></path><path d=\"M 85.3 471.8 L 85.3 392.4 L 115.7 392.4\" id=\"113,38\"></path><path d=\"M 96.9 425.5 L 96.9 406.7 L 121.6 406.7\" id=\"106,37\"></path><path d=\"M 102.0 444.4 L 102.0 421.1 L 114.5 421.1\" id=\"102,36\"></path><path d=\"M 120.2 446.2 L 120.2 435.4 L 120.2 435.4\" id=\"89,35\"></path><path d=\"M 140.1 456.9 L 140.1 449.8 L 140.1 449.8\" id=\"81,34\"></path><path d=\"M 140.1 456.9 L 140.1 464.1 L 140.1 464.1\" id=\"81,33\"></path><path d=\"M 112.8 489.2 L 112.8 478.5 L 136.1 478.5\" id=\"88,32\"></path><path d=\"M 123.3 500.0 L 123.3 492.8 L 123.3 492.8\" id=\"80,31\"></path><path d=\"M 123.3 500.0 L 123.3 507.2 L 123.3 507.2\" id=\"80,30\"></path><path d=\"M 151.4 528.7 L 151.4 521.5 L 151.4 521.5\" id=\"95,29\"></path><path d=\"M 151.4 528.7 L 151.4 535.9 L 151.4 535.9\" id=\"95,28\"></path><path d=\"M 123.2 562.8 L 123.2 550.2 L 145.7 550.2\" id=\"87,27\"></path><path d=\"M 126.3 575.3 L 126.3 564.6 L 155.4 564.6\" id=\"79,26\"></path><path d=\"M 159.8 586.1 L 159.8 578.9 L 160.3 578.9\" id=\"71,25\"></path><path d=\"M 159.8 586.1 L 159.8 593.3 L 159.8 593.3\" id=\"71,24\"></path><path d=\"M 167.1 618.4 L 167.1 607.6 L 167.1 607.6\" id=\"78,23\"></path><path d=\"M 167.1 629.2 L 167.1 622.0 L 167.1 622.0\" id=\"70,22\"></path><path d=\"M 167.1 629.2 L 167.1 636.3 L 167.1 636.3\" id=\"70,21\"></path><path d=\"M 173.8 663.3 L 173.8 650.7 L 173.8 650.7\" id=\"77,20\"></path><path d=\"M 176.1 675.8 L 176.1 665.1 L 176.1 665.1\" id=\"69,19\"></path><path d=\"M 176.1 686.6 L 176.1 679.4 L 176.1 679.4\" id=\"64,18\"></path><path d=\"M 176.1 686.6 L 176.1 693.8 L 176.1 693.8\" id=\"64,17\"></path><path d=\"M 144.2 718.9 L 144.2 708.1 L 175.0 708.1\" id=\"85,16\"></path><path d=\"M 146.1 729.6 L 146.1 722.5 L 146.1 722.5\" id=\"76,15\"></path><path d=\"M 146.1 729.6 L 146.1 736.8 L 147.1 736.8\" id=\"76,14\"></path><path d=\"M 135.4 763.7 L 135.4 751.2 L 150.5 751.2\" id=\"84,13\"></path><path d=\"M 151.7 776.3 L 151.7 765.5 L 151.7 765.5\" id=\"75,12\"></path><path d=\"M 155.3 787.0 L 155.3 779.9 L 157.7 779.9\" id=\"68,11\"></path><path d=\"M 155.3 787.0 L 155.3 794.2 L 164.7 794.2\" id=\"68,10\"></path><path d=\"M 133.6 836.4 L 133.6 808.6 L 150.8 808.6\" id=\"92,9\"></path><path d=\"M 138.9 833.7 L 138.9 822.9 L 146.3 822.9\" id=\"74,8\"></path><path d=\"M 144.0 844.5 L 144.0 837.3 L 174.8 837.3\" id=\"67,7\"></path><path d=\"M 144.0 844.5 L 144.0 851.6 L 157.0 851.6\" id=\"67,6\"></path><path d=\"M 158.4 873.2 L 158.4 866.0 L 158.4 866.0\" id=\"66,5\"></path><path d=\"M 158.4 873.2 L 158.4 880.3 L 161.8 880.3\" id=\"66,4\"></path><path d=\"M 155.2 901.9 L 155.2 894.7 L 155.2 894.7\" id=\"63,3\"></path><path d=\"M 155.2 901.9 L 155.2 909.0 L 155.2 909.0\" id=\"63,2\"></path><path d=\"M 155.2 930.6 L 155.2 923.4 L 155.2 923.4\" id=\"62,1\"></path><path d=\"M 155.2 930.6 L 155.2 937.7 L 155.7 937.7\" id=\"62,0\"></path></g><g class=\"toytree-TipLabels\" style=\"fill:rgb(14.9%,14.9%,14.9%);fill-opacity:1.0;font-family:helvetica;font-size:11px;font-weight:normal;stroke:none;white-space:pre\"><g transform=\"translate(155.74,937.74)rotate(0)\"><text style=\"\" x=\"15.00\" y=\"2.81\">ZM00030AB408540_P001</text></g><g transform=\"translate(155.21,923.39)rotate(0)\"><text style=\"\" x=\"15.00\" y=\"2.81\">ZM00036AB417300_P001</text></g><g transform=\"translate(155.21,909.04)rotate(0)\"><text style=\"\" x=\"15.00\" y=\"2.81\">ZM00025AB421480_P001</text></g><g transform=\"translate(155.21,894.69)rotate(0)\"><text style=\"\" x=\"15.00\" y=\"2.81\">ZM00035AB420600_P001</text></g><g transform=\"translate(161.83,880.33)rotate(0)\"><text style=\"\" x=\"15.00\" y=\"2.81\">ZM00024AB414690_P001</text></g><g transform=\"translate(158.44,865.98)rotate(0)\"><text style=\"\" x=\"15.00\" y=\"2.81\">ZM00023AB417060_P001</text></g><g transform=\"translate(157.02,851.63)rotate(0)\"><text style=\"\" x=\"15.00\" y=\"2.81\">ZM00042AB424390_P001</text></g><g transform=\"translate(174.76,837.28)rotate(0)\"><text style=\"\" x=\"15.00\" y=\"2.81\">ZM00021AB412810_P001</text></g><g transform=\"translate(146.35,822.93)rotate(0)\"><text style=\"\" x=\"15.00\" y=\"2.81\">ZM00038AB381100_P001</text></g><g transform=\"translate(150.82,808.57)rotate(0)\"><text style=\"\" x=\"15.00\" y=\"2.81\">ZM00032AB422890_P001</text></g><g transform=\"translate(164.66,794.22)rotate(0)\"><text style=\"\" x=\"15.00\" y=\"2.81\">ZM00026AB407960_P001</text></g><g transform=\"translate(157.70,779.87)rotate(0)\"><text style=\"\" x=\"15.00\" y=\"2.81\">ZM00027AB411420_P001</text></g><g transform=\"translate(151.73,765.52)rotate(0)\"><text style=\"\" x=\"15.00\" y=\"2.81\">ZM00018AB424810_P001</text></g><g transform=\"translate(150.46,751.16)rotate(0)\"><text style=\"\" x=\"15.00\" y=\"2.81\">ZM00020AB411910_P001</text></g><g transform=\"translate(147.08,736.81)rotate(0)\"><text style=\"\" x=\"15.00\" y=\"2.81\">ZM00041AB422240_P001</text></g><g transform=\"translate(146.06,722.46)rotate(0)\"><text style=\"\" x=\"15.00\" y=\"2.81\">ZM00021AB412880_P001</text></g><g transform=\"translate(175.05,708.11)rotate(0)\"><text style=\"\" x=\"15.00\" y=\"2.81\">ZM00035AB420750_P001</text></g><g transform=\"translate(176.13,693.76)rotate(0)\"><text style=\"\" x=\"15.00\" y=\"2.81\">ZM00027AB411410_P001</text></g><g transform=\"translate(176.13,679.40)rotate(0)\"><text style=\"\" x=\"15.00\" y=\"2.81\">ZM00018AB424800_P001</text></g><g transform=\"translate(176.13,665.05)rotate(0)\"><text style=\"\" x=\"15.00\" y=\"2.81\">ZM00026AB407940_P001</text></g><g transform=\"translate(173.75,650.70)rotate(0)\"><text style=\"\" x=\"15.00\" y=\"2.81\">ZM00001EB405770_P001</text></g><g transform=\"translate(167.11,636.35)rotate(0)\"><text style=\"\" x=\"15.00\" y=\"2.81\">ZM00039AB414290_P001</text></g><g transform=\"translate(167.11,621.99)rotate(0)\"><text style=\"\" x=\"15.00\" y=\"2.81\">ZM00028AB416390_P001</text></g><g transform=\"translate(167.11,607.64)rotate(0)\"><text style=\"\" x=\"15.00\" y=\"2.81\">ZM00031AB422630_P001</text></g><g transform=\"translate(159.83,593.29)rotate(0)\"><text style=\"\" x=\"15.00\" y=\"2.81\">ZM00025AB349690_P001</text></g><g transform=\"translate(160.31,578.94)rotate(0)\"><text style=\"\" x=\"15.00\" y=\"2.81\">ZM00037AB340920_P001</text></g><g transform=\"translate(155.37,564.59)rotate(0)\"><text style=\"\" x=\"15.00\" y=\"2.81\">ZM00036AB417430_P001</text></g><g transform=\"translate(145.67,550.23)rotate(0)\"><text style=\"\" x=\"15.00\" y=\"2.81\">ZM00032AB423190_P001</text></g><g transform=\"translate(151.42,535.88)rotate(0)\"><text style=\"\" x=\"15.00\" y=\"2.81\">ZM00029AB422990_P001</text></g><g transform=\"translate(151.42,521.53)rotate(0)\"><text style=\"\" x=\"15.00\" y=\"2.81\">ZM00039AB414160_P001</text></g><g transform=\"translate(123.34,507.18)rotate(0)\"><text style=\"\" x=\"15.00\" y=\"2.81\">ZM00030AB408680_P001</text></g><g transform=\"translate(123.34,492.82)rotate(0)\"><text style=\"\" x=\"15.00\" y=\"2.81\">ZM00035AB420700_P001</text></g><g transform=\"translate(136.14,478.47)rotate(0)\"><text style=\"\" x=\"15.00\" y=\"2.81\">ZM00042AB463250_P001</text></g><g transform=\"translate(140.10,464.12)rotate(0)\"><text style=\"\" x=\"15.00\" y=\"2.81\">ZM00038AB381200_P001</text></g><g transform=\"translate(140.10,449.77)rotate(0)\"><text style=\"\" x=\"15.00\" y=\"2.81\">ZM00039AB414240_P001</text></g><g transform=\"translate(120.19,435.41)rotate(0)\"><text style=\"\" x=\"15.00\" y=\"2.81\">ZM00031AB422570_P001</text></g><g transform=\"translate(114.54,421.06)rotate(0)\"><text style=\"\" x=\"15.00\" y=\"2.81\">ZM00036AB417330_P001</text></g><g transform=\"translate(121.59,406.71)rotate(0)\"><text style=\"\" x=\"15.00\" y=\"2.81\">ZM00032AB423200_P001</text></g><g transform=\"translate(115.71,392.36)rotate(0)\"><text style=\"\" x=\"15.00\" y=\"2.81\">ZM00042AB424700_P001</text></g><g transform=\"translate(171.21,378.01)rotate(0)\"><text style=\"\" x=\"15.00\" y=\"2.81\">ZM00028AB416340_P001</text></g><g transform=\"translate(171.21,363.65)rotate(0)\"><text style=\"\" x=\"15.00\" y=\"2.81\">ZM00039AB414250_P001</text></g><g transform=\"translate(171.21,349.30)rotate(0)\"><text style=\"\" x=\"15.00\" y=\"2.81\">ZM00031AB422580_P001</text></g><g transform=\"translate(171.88,334.95)rotate(0)\"><text style=\"\" x=\"15.00\" y=\"2.81\">ZM00036AB417360_P001</text></g><g transform=\"translate(174.22,320.60)rotate(0)\"><text style=\"\" x=\"15.00\" y=\"2.81\">ZM00039AB414140_P001</text></g><g transform=\"translate(174.84,306.24)rotate(0)\"><text style=\"\" x=\"15.00\" y=\"2.81\">ZM00021AB412820_P001</text></g><g transform=\"translate(163.28,291.89)rotate(0)\"><text style=\"\" x=\"15.00\" y=\"2.81\">ZM00029AB422950_P001</text></g><g transform=\"translate(125.12,277.54)rotate(0)\"><text style=\"\" x=\"15.00\" y=\"2.81\">ZM00026AB407930_P001</text></g><g transform=\"translate(125.12,263.19)rotate(0)\"><text style=\"\" x=\"15.00\" y=\"2.81\">ZM00018AB424780_P001</text></g><g transform=\"translate(119.13,248.84)rotate(0)\"><text style=\"\" x=\"15.00\" y=\"2.81\">ZM00027AB411400_P001</text></g><g transform=\"translate(122.88,234.48)rotate(0)\"><text style=\"\" x=\"15.00\" y=\"2.81\">ZM00018AB424750_P001</text></g><g transform=\"translate(124.64,220.13)rotate(0)\"><text style=\"\" x=\"15.00\" y=\"2.81\">RppC</text></g><g transform=\"translate(124.62,205.78)rotate(0)\"><text style=\"\" x=\"15.00\" y=\"2.81\">ZM00037AB409540_P001</text></g><g transform=\"translate(115.84,191.43)rotate(0)\"><text style=\"\" x=\"15.00\" y=\"2.81\">ZM00035AB420720_P001</text></g><g transform=\"translate(115.84,177.07)rotate(0)\"><text style=\"\" x=\"15.00\" y=\"2.81\">ZM00030AB408690_P001</text></g><g transform=\"translate(91.32,162.72)rotate(0)\"><text style=\"\" x=\"15.00\" y=\"2.81\">ZM00027AB411370_P001</text></g><g transform=\"translate(86.29,148.37)rotate(0)\"><text style=\"\" x=\"15.00\" y=\"2.81\">ZM00026AB407830_P001</text></g><g transform=\"translate(97.37,134.02)rotate(0)\"><text style=\"\" x=\"15.00\" y=\"2.81\">ZM00018AB424670_P001</text></g><g transform=\"translate(102.33,119.67)rotate(0)\"><text style=\"\" x=\"15.00\" y=\"2.81\">ZM00022AB411310_P001</text></g><g transform=\"translate(51.00,105.31)rotate(0)\"><text style=\"\" x=\"15.00\" y=\"2.81\">ZM00028AB416320_P001</text></g><g transform=\"translate(51.00,90.96)rotate(0)\"><text style=\"\" x=\"15.00\" y=\"2.81\">ZM00034AB431620_P001</text></g><g transform=\"translate(51.00,76.61)rotate(0)\"><text style=\"\" x=\"15.00\" y=\"2.81\">ZM00033AB428990_P001</text></g><g transform=\"translate(51.00,62.26)rotate(0)\"><text style=\"\" x=\"15.00\" y=\"2.81\">ZM00040AB431310_P001</text></g></g></g></g></g></svg><div class=\"toyplot-behavior\"><script>(function()\n",
              "{\n",
              "var modules={};\n",
              "})();</script></div></div>"
            ]
          },
          "metadata": {}
        }
      ]
    },
    {
      "cell_type": "code",
      "source": [
        "#@title This block will tell you if your sequence falls within a highly variable clade.\n",
        "if is_hv:\n",
        "  print(\"Your protein belongs to a highly variable clade.\")\n",
        "else:\n",
        "  print(\"Your protein is not in a highly variable clade.\")\n"
      ],
      "metadata": {
        "cellView": "form",
        "id": "HrnvMN0D4N1l",
        "colab": {
          "base_uri": "https://localhost:8080/"
        },
        "outputId": "7fd63ec7-8460-4e90-84e4-7b702a976930"
      },
      "execution_count": null,
      "outputs": [
        {
          "output_type": "stream",
          "name": "stdout",
          "text": [
            "Your protein belongs to a highly variable clade.\n"
          ]
        }
      ]
    },
    {
      "cell_type": "code",
      "source": [
        "#@title Above ends the process of tree creation. Here we create a Shannon Entropy model (receommended for proteins in highly variable clades), and print the graphed entropy results.\n",
        "def entropy(string):\n",
        "    \"Calculates the Shannon entropy of a string\"\n",
        "    string = string.replace(\"-\",\"\")\n",
        "    # get probability of chars in string\n",
        "    prob = [ float(string.count(c)) / len(string) for c in dict.fromkeys(list(\"ARNDCQEGHILKMFPSTWYV\")) ]\n",
        "\n",
        "    # calculate the entropy\n",
        "    entropy = - sum([ p * math.log(p) / math.log(2.0) for p in prob if p > 0])\n",
        "\n",
        "    return entropy\n",
        "\n",
        "gene = query_sequence\n",
        "cn = jobname_unhashed\n",
        "file_oi = jobname + \".updated.afa\"\n",
        "\n",
        "align = AlignIO.read(file_oi, \"fasta\")\n",
        "\n",
        "length = len(align[1,:])\n",
        "entropies = []\n",
        "for i in range(length):\n",
        "  col = align[:,i]\n",
        "  if col[len(align) - 1] == \"-\":\n",
        "    continue\n",
        "  entropies.append(entropy(col))\n",
        "\n",
        "f = open(jobname+\"_Chimera_Entropy.txt\", \"w\")\n",
        "f.write(\"attribute: shannonEntropy\\n\")\n",
        "f.write(\"match mode: 1-to-1\\n\")\n",
        "f.write(\"recipient: residues\\n\")\n",
        "for i in range(1,len(entropies)+1):\n",
        "  f.write(\"\\t:\")\n",
        "  f.write(str(i))\n",
        "  f.write(\"\\t\")\n",
        "  f.write(str(entropies[i-1]))\n",
        "  f.write(\"\\n\")\n",
        "f.close()\n",
        "\n",
        "ylim = max(max(entropies), 2.5)\n",
        "\n",
        "plt.ylim(0,ylim);\n",
        "plt.plot(entropies);\n",
        "plt.xlabel(\"Residue Number\");\n",
        "plt.ylabel(\"Entropy (bits)\");\n",
        "plt.title(\"Shannon Entropy of \"+jobname_unhashed);\n",
        "plt.savefig(jobname + \"_Entropy_MaskedNG\");\n",
        "\n",
        "shannon_created = True"
      ],
      "metadata": {
        "id": "8jQ1PVHumQPY",
        "colab": {
          "base_uri": "https://localhost:8080/",
          "height": 295
        },
        "outputId": "8821f6c0-d4c5-402d-c25f-7e7d1912adde"
      },
      "execution_count": null,
      "outputs": [
        {
          "output_type": "display_data",
          "data": {
            "text/plain": [
              "<Figure size 432x288 with 1 Axes>"
            ],
            "image/png": "[encoded data removed]"
          },
          "metadata": {
            "needs_background": "light"
          }
        }
      ]
    },
    {
      "cell_type": "code",
      "source": [
        "#@title Download Results\n",
        "#@markdown Our assembled zip file contains the tree created in Newick format and an updated aligned fasta format of your sequence against all other proteins in your species. \\\n",
        "#@markdown \\\n",
        "#@markdown If a Shannon Entropy model was generated, it also includes the Chimera-formatted entropy mapping, as well as the graph generated above of entropy per residue. \\\n",
        "#@markdown \\\n",
        "#@markdown If you are having issues downloading the result, try disabling your adblocker and run this cell again. If that fails click on the folder icon to the left, navigate to /content, and manually download {jobname}_results.zip.\n",
        "\n",
        "new_folder = jobname_unhashed + \"_results\"\n",
        "!mkdir {new_folder}\n",
        "!mv {jobname}.updated.afa {new_folder}\n",
        "!mv epa_result.newick {new_folder}\n",
        "if shannon_created:\n",
        "  %mv {jobname}_Chimera_Entropy.txt {new_folder}\n",
        "  %mv {jobname}_Entropy_MaskedNG.png {new_folder}\n",
        "\n",
        "!mv {new_folder} ../../../\n",
        "%cd /content\n",
        "!zip -r {new_folder}.zip {new_folder}\n",
        "res = new_folder + \".zip\"\n",
        "files.download(res)"
      ],
      "metadata": {
        "cellView": "form",
        "id": "t_WrYFpewM-d",
        "colab": {
          "base_uri": "https://localhost:8080/",
          "height": 121
        },
        "outputId": "ff14392e-39eb-44b2-da0a-3a9897eb6c26"
      },
      "execution_count": null,
      "outputs": [
        {
          "output_type": "stream",
          "name": "stdout",
          "text": [
            "/content\n",
            "  adding: RppC_results/ (stored 0%)\n",
            "  adding: RppC_results/RppC_9c750_Chimera_Entropy.txt (deflated 71%)\n",
            "  adding: RppC_results/RppC_9c750_Entropy_MaskedNG.png (deflated 4%)\n",
            "  adding: RppC_results/epa_result.newick (deflated 72%)\n",
            "  adding: RppC_results/RppC_9c750.updated.afa (deflated 93%)\n"
          ]
        },
        {
          "output_type": "display_data",
          "data": {
            "text/plain": [
              "<IPython.core.display.Javascript object>"
            ],
            "application/javascript": [
              "\n",
              "    async function download(id, filename, size) {\n",
              "      if (!google.colab.kernel.accessAllowed) {\n",
              "        return;\n",
              "      }\n",
              "      const div = document.createElement('div');\n",
              "      const label = document.createElement('label');\n",
              "      label.textContent = `Downloading \"${filename}\": `;\n",
              "      div.appendChild(label);\n",
              "      const progress = document.createElement('progress');\n",
              "      progress.max = size;\n",
              "      div.appendChild(progress);\n",
              "      document.body.appendChild(div);\n",
              "\n",
              "      const buffers = [];\n",
              "      let downloaded = 0;\n",
              "\n",
              "      const channel = await google.colab.kernel.comms.open(id);\n",
              "      // Send a message to notify the kernel that we're ready.\n",
              "      channel.send({})\n",
              "\n",
              "      for await (const message of channel.messages) {\n",
              "        // Send a message to notify the kernel that we're ready.\n",
              "        channel.send({})\n",
              "        if (message.buffers) {\n",
              "          for (const buffer of message.buffers) {\n",
              "            buffers.push(buffer);\n",
              "            downloaded += buffer.byteLength;\n",
              "            progress.value = downloaded;\n",
              "          }\n",
              "        }\n",
              "      }\n",
              "      const blob = new Blob(buffers, {type: 'application/binary'});\n",
              "      const a = document.createElement('a');\n",
              "      a.href = window.URL.createObjectURL(blob);\n",
              "      a.download = filename;\n",
              "      div.appendChild(a);\n",
              "      a.click();\n",
              "      div.remove();\n",
              "    }\n",
              "  "
            ]
          },
          "metadata": {}
        },
        {
          "output_type": "display_data",
          "data": {
            "text/plain": [
              "<IPython.core.display.Javascript object>"
            ],
            "application/javascript": [
              "download(\"download_db1d4c2b-4a25-45b4-88f6-463810ed82e8\", \"RppC_results.zip\", 32861)"
            ]
          },
          "metadata": {}
        }
      ]
    },
    {
      "cell_type": "markdown",
      "source": [
        "**References:**\n",
        "\n",
        "A. Stamatakis: \"RAxML Version 8: A tool for Phylogenetic Analysis and Post-Analysis of Large Phylogenies\". In Bioinformatics, 2014, open access.\n",
        "\n",
        "Eaton DAR. Toytree: A minimalist tree visualization and manipulation library for Python. Methods Ecol Evol. 2020;11:187–191. https://doi.org/10.1111/2041-210X.13313\n",
        "\n",
        "Haun WJ, Hyten DL, Xu WW, Gerhardt DJ, Albert TJ, Richmond T, Jeddeloh JA, Jia G, Springer NM, Vance CP, Stupar RM. The composition and origins of genomic variation among individuals of the soybean reference cultivar Williams 82. Plant Physiol. 2011 Feb;155(2):645-55. doi: 10.1104/pp.110.166736. Epub 2010 Nov 29. PMID: 21115807; PMCID: PMC3032456.\n",
        "\n",
        "Jumper, J et al. Highly accurate protein structure prediction with AlphaFold. Nature (2021).\n",
        "\n",
        "Katoh K, Standley DM. MAFFT multiple sequence alignment software version 7: improvements in performance and usability. Mol Biol Evol. 2013 Apr;30(4):772-80. doi: 10.1093/molbev/mst010. Epub 2013 Jan 16. PMID: 23329690; PMCID: PMC3603318.\n",
        "\n",
        "Varadi, M et al. AlphaFold Protein Structure Database: massively expanding the structural coverage of protein-sequence space with high-accuracy models. Nucleic Acids Research (2021).\n",
        "\n",
        "\n",
        "\n"
      ],
      "metadata": {
        "id": "jjRU5Eh-57jS"
      }
    }
  ]
}