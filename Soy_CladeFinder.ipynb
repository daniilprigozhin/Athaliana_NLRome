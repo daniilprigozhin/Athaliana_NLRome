{
  "nbformat": 4,
  "nbformat_minor": 0,
  "metadata": {
    "colab": {
      "name": "Soy_CladeFinder.ipynb",
      "provenance": [],
      "collapsed_sections": [],
      "include_colab_link": true
    },
    "kernelspec": {
      "name": "python3",
      "display_name": "Python 3"
    },
    "language_info": {
      "name": "python"
    }
  },
  "cells": [
    {
      "cell_type": "markdown",
      "metadata": {
        "id": "view-in-github",
        "colab_type": "text"
      },
      "source": [
        "<a href=\"https://colab.research.google.com/github/daniilprigozhin/NLRome_Align_Tree/blob/main/Soy_CladeFinder.ipynb\" target=\"_parent\"><img src=\"https://colab.research.google.com/assets/colab-badge.svg\" alt=\"Open In Colab\"/></a>"
      ]
    },
    {
      "cell_type": "markdown",
      "source": [
        "This program takes a immunoprotein sequence for Soy, Maize, or Arabidopsis and returns the clade in which this protein lies in relation to known subspecies. We also return a Shannon Entropy model for analyzing highly variable portions of the protein, which can be viewed on tools like Chimera. Please use Chrome for this process to ensure results."
      ],
      "metadata": {
        "id": "PKikS9Sd4VSc"
      }
    },
    {
      "cell_type": "code",
      "metadata": {
        "id": "EMFf1AgmrH5v",
        "cellView": "form",
        "colab": {
          "base_uri": "https://localhost:8080/"
        },
        "outputId": "5e91e1a9-cbc9-43c1-e2e3-8db48d13c429"
      },
      "source": [
        "#@title Install Non-Python Dependencies\n",
        "#@markdown This block may take 4-5 minutes. If it says your session crashed, do not be alarmed and continue running the next code block. This is a bug from importing one of the necessary packages onto Colab.\n",
        "\n",
        "!pip install -q condacolab &> /dev/null\n",
        "import condacolab\n",
        "condacolab.install()\n",
        "!conda install -c bioconda hmmer &> /dev/null\n",
        "!conda install -c bioconda mafft &> /dev/null\n",
        "!pip install Bio &> /dev/null\n",
        "from collections import defaultdict\n",
        "from Bio import SearchIO\n",
        "!conda install -c bioconda epa-ng &> /dev/null\n",
        "!conda install -c bioconda gappa &> /dev/null\n",
        "from google.colab import files\n",
        "!pip install toytree &> /dev/null\n",
        "\n",
        "from Bio import AlignIO"
      ],
      "execution_count": 29,
      "outputs": [
        {
          "output_type": "stream",
          "name": "stdout",
          "text": [
            "✨🍰✨ Everything looks OK!\n"
          ]
        }
      ]
    },
    {
      "cell_type": "code",
      "source": [
        "#@title Install Python Dependencies\n",
        "!pip install -q gwpy &> /dev/null\n",
        "!conda install -c bioconda hmmer &> /dev/null\n",
        "!conda install -c bioconda mafft &> /dev/null\n",
        "import math\n",
        "import os\n",
        "import pandas as pd\n",
        "import numpy as np\n",
        "import matplotlib.pyplot as plt\n",
        "import toytree       # a tree plotting library\n",
        "import toyplot       # a general plotting library"
      ],
      "metadata": {
        "id": "bjaXw2hyv3h0",
        "cellView": "form"
      },
      "execution_count": 42,
      "outputs": []
    },
    {
      "cell_type": "code",
      "metadata": {
        "id": "XpgEVvWF3rO5",
        "colab": {
          "base_uri": "https://localhost:8080/"
        },
        "outputId": "b1554f0d-6d36-42cc-f6e5-eb8c1e94cca9",
        "cellView": "form"
      },
      "source": [
        "#@title Select Species\n",
        "Species = \"Maize\" #@param [\"Soy\", \"Arabidopsis\", \"Maize\"]\n",
        "\n",
        "%cd /content\n",
        "!rm -rf NLRome_Align_Tree\n",
        "!git clone https://github.com/daniilprigozhin/NLRome_Align_Tree &> /dev/null\n",
        " \n",
        "%cd NLRome_Align_Tree/\n",
        "if Species == 'Soy':\n",
        "  %cd Soy_NLRome\n",
        "  common = pd.read_csv(\"Soy_NLRome_GeneTable.txt\", sep='\\t')\n",
        "elif Species == \"Arabidopsis\":\n",
        "  %cd Atha_NLRome\n",
        "  common = pd.read_csv(\"Atha_NLRome_GeneTable.txt\", sep = '\\t')\n",
        "else:\n",
        "  %cd Maize_NLRome\n",
        "  common = pd.read_csv(\"Maize_NLRome_GeneTable.txt\", sep = '\\t')\n",
        "\n",
        "\n",
        "clades = common[[\"Clade\", \"File\"]].groupby(\"Clade\").first()\n",
        "!unzip All_Clades.zip"
      ],
      "execution_count": 63,
      "outputs": [
        {
          "output_type": "stream",
          "name": "stdout",
          "text": [
            "/content\n",
            "/content/NLRome_Align_Tree\n",
            "/content/NLRome_Align_Tree/Maize_NLRome\n",
            "Archive:  All_Clades.zip\n",
            "  inflating: All_Clades.hmm          \n"
          ]
        }
      ]
    },
    {
      "cell_type": "code",
      "metadata": {
        "id": "poPVyX_F8cPj",
        "colab": {
          "base_uri": "https://localhost:8080/"
        },
        "outputId": "bf122949-9495-4f44-81de-c665cf1f9e5a",
        "cellView": "form"
      },
      "source": [
        "# Code used from https://github.com/sokrypton/ColabFold\n",
        "import re\n",
        "import hashlib\n",
        "\n",
        "def add_hash(x,y):\n",
        "  return x+\"_\"+hashlib.sha1(y.encode()).hexdigest()[:5]\n",
        "\n",
        "query_sequence = 'MIRKITRRFSISTDRAGFQFRPEGDDGSTSEGIVDITRWFEEIHTDQTAAQLRPEDEDGDISKRIGEIIRRFEEITGDRAALHLGQEDGERNTWSGRDSTWESRVTSHLLDESCVFGRTKEKEHVVKLVKSYSKCPGIHVLPIVGMGGIGKTTVAQMVYREVQESYDLLSWVHVPETFDLRKLAIAITESLSRQPCTYNNFSVVHDVLQQTVLNKRVFLVLDDLWNERQICWQDFLCSLKFADTMTILVTTRSKEVAQLLQTIPHFELGLLPEDHCWQLFQCYAFGHRNIHEESALVQVGRKIMEKCSCLPLAIKSIGCLLRSKMDMQTWMEISDSEFWEYSDNNEEILSALRLSFHRLPGRLKPCFLLCALYPKGEPFTKDDMIHLWTAHGYVQPSGCKTLEKVAGEYFDELNERSLIEMDTYYLVSREGHNYLKKSRVRSPVEISSGEIFDTDVSFYELHIRSLVENFHKGTTESSLPFQLFRLHDMIWDLAKSLSSCLFSAVAVDEGNLYMQNEVQHLFLWLGRGRSKQNTQRGHSELIPISKSRDLFISWINNSLGLESEPFRWRHRSTPRPSHRPQVSDFELLGLSSTALLGIALEAMIQARPDPVQDPMSSARLLAYLPENKHEYILSTQSRRSQLFKIDYLRTLILKQCTFYNIGIYTYLRALILYSCKDSGCIAAIQYLKLLRYLNIRNCDSLTGKNLNHLTQSICHLYSLEKLIVSTCWKEFSIQSCHLFSLRYLQLSVQFNDWSQHPLCHFHNLDTLCLQNCHSIAELPTGIGNLMNLRCLKLIGISEIKKLNHDSLLCQCNNNKCQLMKAIFPALMELELDSLCELQDWCKFQDPDCPKMQSITVRNCNKLRRIPYFGSVRSLMIINSALIGLQLSASNEPSQLQTLDISYCENLESLLGLENLCSLGSLYIAHCPKLFVLRQEKLLFRPQNILIDDCPGLIEWCDEQELYYHVRSYALLFFLF' #@param {type:\"string\"}\n",
        "# remove whitespaces\n",
        "query_sequence = \"\".join(query_sequence.split())\n",
        "query_sequence = re.sub(r'[^a-zA-Z]','', query_sequence).upper()\n",
        "\n",
        "jobname = 'test' #@param {type:\"string\"}\n",
        "# remove whitespaces\n",
        "jobname = \"\".join(jobname.split())\n",
        "jobname = re.sub(r'\\W+', '', jobname)\n",
        "jobname_unhashed = jobname\n",
        "jobname = add_hash(jobname, query_sequence)\n",
        "\n",
        "%mkdir {jobname}\n",
        "%cd {jobname}\n",
        "\n",
        "\n",
        "with open(f\"{jobname}.fasta\", \"w\") as text_file:\n",
        "    text_file.write(\">\" + jobname_unhashed + \"\\n%s\" % query_sequence)"
      ],
      "execution_count": 64,
      "outputs": [
        {
          "output_type": "stream",
          "name": "stdout",
          "text": [
            "/content/NLRome_Align_Tree/Maize_NLRome/test_2070a\n"
          ]
        }
      ]
    },
    {
      "cell_type": "code",
      "metadata": {
        "id": "JfTKi1juGfnO",
        "cellView": "form",
        "colab": {
          "base_uri": "https://localhost:8080/"
        },
        "outputId": "182e9bd2-af90-4e3d-fadd-8e9493402cc3"
      },
      "source": [
        "#@title Create an Annotated Tree with your protein included\n",
        "!hmmsearch --domtblout {jobname}.tbl.out ../All_Clades.hmm {jobname}.fasta &> /dev/null\n",
        "\n",
        "filename = jobname + \".tbl.out\"\n",
        "\n",
        "attribs = ['bias', 'bitscore',  'evalue']\n",
        "\n",
        "hits = defaultdict(list)\n",
        "names = []\n",
        "\n",
        "with open(filename) as handle:\n",
        "    for queryresult in SearchIO.parse(handle, 'hmmsearch3-domtab'):\n",
        "      #print(queryresult.id)\n",
        "      #print(queryresult.accession)\n",
        "      #print(queryresult.description)\n",
        "      for hit in queryresult.hsps:\n",
        "        names.append(queryresult.id)\n",
        "        for attrib in attribs:\n",
        "          hits[attrib].append(getattr(hit, attrib))\n",
        "\n",
        "final = pd.DataFrame.from_dict(hits)\n",
        "final[\"Clade\"] = names\n",
        "final.sort_values(\"bitscore\", ascending = False)\n",
        "\n",
        "#common = pd.read_csv(\"Soy_NLRome_GeneTable.txt\", sep='\\t')\n",
        "\n",
        "final_hv = final.set_index(\"Clade\").join(common[[\"Clade\", \"HV\", \"File\"]].groupby(\"Clade\").agg(max), how = 'left', rsuffix = \"_other\").sort_values(\"bitscore\", ascending = False)\n",
        "best_afa_file = final_hv.iloc[0,:][\"File\"]\n",
        "best_afa = \"../\" + best_afa_file\n",
        "\n",
        "!mafft --add {jobname}.fasta --keeplength {best_afa} > {jobname}.updated.afa\n",
        "\n",
        "clade_oi = common[common[\"File\"] == best_afa_file].iloc[0,:][\"Clade\"]\n",
        "tree_oi = best_afa[:best_afa.find(\"Int\")] + \"RAxML_bestTree.\" + clade_oi + \".Raxml.out\"\n",
        "raxml_info_oi = best_afa[:best_afa.find(\"Int\")] + \"RAxML_info.\" + clade_oi + \".Raxml.out\"\n",
        "\n",
        "!epa-ng --split {best_afa} {jobname}.updated.afa --tree {tree_oi} --model {raxml_info_oi}\n",
        "!cut -f1 -d ' ' {best_afa} > best_afa_f.afa\n",
        "!epa-ng --ref-msa best_afa_f.afa --tree {tree_oi} -q query.fasta --model {raxml_info_oi} --redo\n",
        "\n",
        "!gappa examine graft --jplace-path ./ &> /dev/null\n",
        "\n",
        "tree_created = True\n",
        "\n",
        "is_hv = final_hv.iloc[0,:][\"HV\"] == 1"
      ],
      "execution_count": 65,
      "outputs": [
        {
          "output_type": "stream",
          "name": "stdout",
          "text": [
            "nadd = 1\n",
            "nthread = 0\n",
            "nthreadpair = 0\n",
            "nthreadtb = 0\n",
            "ppenalty_ex = 0\n",
            "stacksize: 8192 kb\n",
            "rescale = 1\n",
            "Gap Penalty = -1.53, +0.00, +0.00\n",
            "\n",
            "\n",
            "\n",
            "Making a distance matrix ..\n",
            "\r    1 / 27\n",
            "done.\n",
            "\n",
            "Constructing a UPGMA tree (efffree=0) ... \n",
            "\r    0 / 27\r   10 / 27\r   20 / 27\n",
            "done.\n",
            "\n",
            "Progressive alignment 1/2... \n",
            "\rSTEP     1 / 26  f\b\b\n",
            "done.\n",
            "\n",
            "Making a distance matrix from msa.. \n",
            "\r    0 / 27\n",
            "done.\n",
            "\n",
            "Constructing a UPGMA tree (efffree=1) ... \n",
            "\r    0 / 27\r   10 / 27\r   20 / 27\n",
            "done.\n",
            "\n",
            "Progressive alignment 2/2... \n",
            "\rSTEP     7 / 26  f\b\b\n",
            "done.\n",
            "\n",
            "disttbfast (aa) Version 7.490\n",
            "alg=A, model=BLOSUM62, 1.53, -0.00, -0.00, noshift, amax=0.0\n",
            "0 thread(s)\n",
            "\n",
            "\n",
            "Strategy:\n",
            " FFT-NS-2 (Fast but rough)\n",
            " Progressive method (guide trees were built 2 times.)\n",
            "\n",
            "If unsure which option to use, try 'mafft --auto input > output'.\n",
            "For more information, see 'mafft --help', 'mafft --man' and the mafft page.\n",
            "\n",
            "The default gap scoring scheme has been changed in version 7.110 (2013 Oct).\n",
            "It tends to insert more gaps into gap-rich regions than previous versions.\n",
            "To disable this change, add the --leavegappyregion option.\n",
            "\n",
            "INFO Splitting files based on reference: ../RAxML_tree_pbNB-ARC/Initial_Clades/Int3452_26.afa\n",
            "INFO Selected: Output dir: ./\n",
            "INFO Selected: Query file: query.fasta\n",
            "INFO Selected: Tree file: ../RAxML_tree_pbNB-ARC/Initial_Clades/RAxML_bestTree.Int3452_26.Raxml.out\n",
            "INFO Selected: Reference MSA: best_afa_f.afa\n",
            "INFO Selected: Automatic switching of use of per rate scalers\n",
            "INFO Selected: Preserving the root of the input tree\n",
            "INFO Selected: Specified model file: ../RAxML_tree_pbNB-ARC/Initial_Clades/RAxML_info.Int3452_26.Raxml.out\n",
            "INFO     ______ ____   ___           _   __ ______\n",
            "        / ____// __ \\ /   |         / | / // ____/\n",
            "       / __/  / /_/ // /| | ______ /  |/ // / __  \n",
            "      / /___ / ____// ___ |/_____// /|  // /_/ /  \n",
            "     /_____//_/    /_/  |_|      /_/ |_/ \\____/ (v0.3.8)\n",
            "INFO Using model parameters:\n",
            "INFO    Rate heterogeneity: GAMMA (4 cats, mean),  alpha: 0.02 (user),  weights&rates: (0.25,4.41361e-31) (0.25,9.93856e-16) (0.25,9.50556e-07) (0.25,4) \n",
            "        Base frequencies (user): 0.076748 0.051691 0.042645 0.051544 0.019803 0.040752 0.06183 0.073152 0.022944 0.053761 0.091904 0.058676 0.023826 0.040126 0.050901 0.068765 0.058565 0.014261 0.032102 0.066004 \n",
            "        Substitution rates (user): 3.62501 3.37501 5.06251 3.5 3.5625 6.56251 11.1875 1.6875 2.25 1.875 2.1875 3.37501 0.937499 12.125 23.625 29.6875 0.562498 0.6875 18.625 2.8125 1 7.06251 19.375 1.8125 8.56251 20.5 1.375 2.375 40.3751 2.75 0.3125 4.62501 6.31251 4.00001 7.87501 1.25 1.0625 33 2.125 5.37501 3.62501 5.06251 24.4375 2.9375 0.750002 16.4375 1.875 0.624999 0.937499 31.4375 14.5 0.500003 4.37501 1 0.624999 3.06251 47.9376 8.12501 7.00001 0.6875 0.437502 1.62501 0.937499 0.249998 0.937499 3.68751 2.375 0.249998 2.875 1.9375 0.562498 0.3125 3.68751 4.31251 1.0625 1.4375 0.437502 1.9375 4.87501 0.875004 13.9375 2.62501 7.18751 13.0625 3.875 20.1875 1.62501 37.3126 0.562498 4.50001 18.25 2.68751 0.249998 10.25 3.31251 3.1875 1.125 1.5 1.25 7.43751 1.62501 0.750002 0.562498 11.3125 1.125 0.3125 1.125 1.875 2 0.624999 0.437502 2.8125 1.4375 0.375001 0.375001 1.6875 0.875004 0.3125 1.5 12.5625 2.0625 3.4375 0.500003 2.9375 1 3.5 2.8125 2.0625 2.5 7.18751 4.5625 2.875 0.500003 35.8126 0.6875 14.3125 1.3125 29.9375 5.56251 0.624999 2.5 15.3125 0.562498 2 60.0626 0.875004 24.25 15.5 6.37501 3.68751 1.5625 3.25 1.5 11.25 4.06251 0.249998 1.3125 2.9375 6.43751 0.624999 0.500003 0.875004 2.68751 1 1.8125 14.125 1.5 1.125 20.1875 1.0625 5.75001 0.750002 3.31251 33.5 3.875 17.8125 7.37501 0.375001 0.624999 1.4375 29.8125 2.1875 3.9375 2.375 0.750002 1.3125 7.00001 4.43751 1.5625 1\n",
            "INFO Output file: ./epa_result.jplace\n",
            "INFO 1 Sequences done!\n",
            "INFO Time spent placing: 0s\n",
            "INFO Elapsed Time: 0s\n"
          ]
        }
      ]
    },
    {
      "cell_type": "code",
      "source": [
        "#@title View tree\n",
        "directory = os.getcwd()\n",
        "file_name = directory + \"/epa_result.newick\" \n",
        "tre = toytree.tree(file_name)\n",
        "tre.draw(tip_labels_align=True);"
      ],
      "metadata": {
        "id": "ZerxoYZcmTag",
        "colab": {
          "base_uri": "https://localhost:8080/",
          "height": 507
        },
        "cellView": "form",
        "outputId": "d34e17b5-d523-45b4-d6fc-effb26044290"
      },
      "execution_count": 66,
      "outputs": [
        {
          "output_type": "display_data",
          "data": {
            "text/html": [
              "<div class=\"toyplot\" id=\"ta72535f7f42f46d68e2d6f3fe0e72316\" style=\"text-align:center\"><svg class=\"toyplot-canvas-Canvas\" height=\"486.0px\" id=\"td1602daf4a3b479fba2cc40b6f447c4d\" preserveAspectRatio=\"xMidYMid meet\" style=\"background-color:transparent;border-color:#292724;border-style:none;border-width:1.0;fill:rgb(16.1%,15.3%,14.1%);fill-opacity:1.0;font-family:Helvetica;font-size:12px;opacity:1.0;stroke:rgb(16.1%,15.3%,14.1%);stroke-opacity:1.0;stroke-width:1.0\" viewBox=\"0 0 350.0 486.0\" width=\"350.0px\" xmlns=\"http://www.w3.org/2000/svg\" xmlns:toyplot=\"http://www.sandia.gov/toyplot\" xmlns:xlink=\"http://www.w3.org/1999/xlink\"><g class=\"toyplot-coordinates-Cartesian\" id=\"tab01db80850f4652b978a33a9e1eac5d\"><clipPath id=\"te62a73cbb332424c81093a9e79118c76\"><rect height=\"426.0\" width=\"290.0\" x=\"30.0\" y=\"30.0\"></rect></clipPath><g clip-path=\"url(#te62a73cbb332424c81093a9e79118c76)\"><g class=\"toytree-mark-Toytree\" id=\"t8e642149e581494e9ccd1ca58a4d1ba1\"><g class=\"toytree-Edges\" style=\"fill:none;stroke:rgb(14.9%,14.9%,14.9%);stroke-linecap:round;stroke-opacity:1;stroke-width:2\"><path d=\"M 51.0 153.5 L 51.0 68.8 L 51.0 68.8\" id=\"51,50\"></path><path d=\"M 51.0 153.5 L 51.0 106.5 L 51.0 106.5\" id=\"51,49\"></path><path d=\"M 51.0 153.5 L 51.0 285.2 L 55.5 285.2\" id=\"51,48\"></path><path d=\"M 51.0 106.5 L 51.0 123.2 L 57.0 123.2\" id=\"49,47\"></path><path d=\"M 55.5 285.2 L 55.5 242.1 L 97.6 242.1\" id=\"48,46\"></path><path d=\"M 55.5 285.2 L 55.5 328.4 L 82.1 328.4\" id=\"48,45\"></path><path d=\"M 57.0 123.2 L 57.0 142.8 L 57.0 142.8\" id=\"47,44\"></path><path d=\"M 97.6 242.1 L 97.6 255.2 L 99.5 255.2\" id=\"46,43\"></path><path d=\"M 82.1 328.4 L 82.1 358.0 L 147.0 358.0\" id=\"45,42\"></path><path d=\"M 57.0 142.8 L 57.0 124.5 L 59.3 124.5\" id=\"44,41\"></path><path d=\"M 57.0 142.8 L 57.0 161.1 L 57.0 161.1\" id=\"44,40\"></path><path d=\"M 99.5 255.2 L 99.5 267.4 L 99.5 267.4\" id=\"43,39\"></path><path d=\"M 147.0 358.0 L 147.0 324.9 L 148.6 324.9\" id=\"42,38\"></path><path d=\"M 147.0 358.0 L 147.0 391.1 L 152.1 391.1\" id=\"42,37\"></path><path d=\"M 57.0 161.1 L 57.0 176.8 L 57.0 176.8\" id=\"40,36\"></path><path d=\"M 99.5 267.4 L 99.5 277.8 L 101.8 277.8\" id=\"39,35\"></path><path d=\"M 148.6 324.9 L 148.6 337.1 L 148.6 337.1\" id=\"38,34\"></path><path d=\"M 152.1 391.1 L 152.1 375.4 L 155.5 375.4\" id=\"37,33\"></path><path d=\"M 152.1 391.1 L 152.1 406.8 L 155.3 406.8\" id=\"37,32\"></path><path d=\"M 57.0 176.8 L 57.0 194.2 L 68.1 194.2\" id=\"36,31\"></path><path d=\"M 148.6 337.1 L 148.6 347.5 L 148.7 347.5\" id=\"34,30\"></path><path d=\"M 155.3 406.8 L 155.3 417.2 L 176.1 417.2\" id=\"32,29\"></path><path d=\"M 68.1 194.2 L 68.1 180.3 L 73.5 180.3\" id=\"31,28\"></path><path d=\"M 68.1 194.2 L 68.1 208.2 L 68.1 208.2\" id=\"31,27\"></path><path d=\"M 51.0 68.8 L 51.0 61.8 L 51.0 61.8\" id=\"50,26\"></path><path d=\"M 51.0 68.8 L 51.0 75.8 L 53.5 75.8\" id=\"50,25\"></path><path d=\"M 51.0 106.5 L 51.0 89.7 L 51.0 89.7\" id=\"49,24\"></path><path d=\"M 57.0 123.2 L 57.0 103.6 L 57.0 103.6\" id=\"47,23\"></path><path d=\"M 59.3 124.5 L 59.3 117.6 L 59.3 117.6\" id=\"41,22\"></path><path d=\"M 59.3 124.5 L 59.3 131.5 L 61.7 131.5\" id=\"41,21\"></path><path d=\"M 57.0 161.1 L 57.0 145.4 L 57.0 145.4\" id=\"40,20\"></path><path d=\"M 57.0 176.8 L 57.0 159.4 L 57.0 159.4\" id=\"36,19\"></path><path d=\"M 73.5 180.3 L 73.5 173.3 L 85.8 173.3\" id=\"28,18\"></path><path d=\"M 73.5 180.3 L 73.5 187.3 L 79.5 187.3\" id=\"28,17\"></path><path d=\"M 68.1 208.2 L 68.1 201.2 L 68.1 201.2\" id=\"27,16\"></path><path d=\"M 68.1 208.2 L 68.1 215.1 L 68.1 215.1\" id=\"27,15\"></path><path d=\"M 97.6 242.1 L 97.6 229.1 L 97.6 229.1\" id=\"46,14\"></path><path d=\"M 99.5 255.2 L 99.5 243.0 L 99.5 243.0\" id=\"43,13\"></path><path d=\"M 99.5 267.4 L 99.5 256.9 L 99.5 256.9\" id=\"39,12\"></path><path d=\"M 101.8 277.8 L 101.8 270.9 L 101.8 270.9\" id=\"35,11\"></path><path d=\"M 101.8 277.8 L 101.8 284.8 L 101.8 284.8\" id=\"35,10\"></path><path d=\"M 82.1 328.4 L 82.1 298.7 L 89.0 298.7\" id=\"45,9\"></path><path d=\"M 148.6 324.9 L 148.6 312.7 L 148.6 312.7\" id=\"38,8\"></path><path d=\"M 148.6 337.1 L 148.6 326.6 L 148.7 326.6\" id=\"34,7\"></path><path d=\"M 148.7 347.5 L 148.7 340.6 L 148.7 340.6\" id=\"30,6\"></path><path d=\"M 148.7 347.5 L 148.7 354.5 L 148.7 354.5\" id=\"30,5\"></path><path d=\"M 155.5 375.4 L 155.5 368.4 L 168.8 368.4\" id=\"33,4\"></path><path d=\"M 155.5 375.4 L 155.5 382.4 L 159.7 382.4\" id=\"33,3\"></path><path d=\"M 155.3 406.8 L 155.3 396.3 L 158.7 396.3\" id=\"32,2\"></path><path d=\"M 176.1 417.2 L 176.1 410.2 L 176.1 410.2\" id=\"29,1\"></path><path d=\"M 176.1 417.2 L 176.1 424.2 L 176.1 424.2\" id=\"29,0\"></path></g><g class=\"toytree-AlignEdges\" style=\"stroke:rgb(66.3%,66.3%,66.3%);stroke-dasharray:2, 4;stroke-linecap:round;stroke-opacity:1.0;stroke-width:2\"><path d=\"M 176.1 424.2 L 176.1 424.2\"></path><path d=\"M 176.1 410.2 L 176.1 410.2\"></path><path d=\"M 176.1 396.3 L 158.7 396.3\"></path><path d=\"M 176.1 382.4 L 159.7 382.4\"></path><path d=\"M 176.1 368.4 L 168.8 368.4\"></path><path d=\"M 176.1 354.5 L 148.7 354.5\"></path><path d=\"M 176.1 340.6 L 148.7 340.6\"></path><path d=\"M 176.1 326.6 L 148.7 326.6\"></path><path d=\"M 176.1 312.7 L 148.6 312.7\"></path><path d=\"M 176.1 298.7 L 89.0 298.7\"></path><path d=\"M 176.1 284.8 L 101.8 284.8\"></path><path d=\"M 176.1 270.9 L 101.8 270.9\"></path><path d=\"M 176.1 256.9 L 99.5 256.9\"></path><path d=\"M 176.1 243.0 L 99.5 243.0\"></path><path d=\"M 176.1 229.1 L 97.6 229.1\"></path><path d=\"M 176.1 215.1 L 68.1 215.1\"></path><path d=\"M 176.1 201.2 L 68.1 201.2\"></path><path d=\"M 176.1 187.3 L 79.5 187.3\"></path><path d=\"M 176.1 173.3 L 85.8 173.3\"></path><path d=\"M 176.1 159.4 L 57.0 159.4\"></path><path d=\"M 176.1 145.4 L 57.0 145.4\"></path><path d=\"M 176.1 131.5 L 61.7 131.5\"></path><path d=\"M 176.1 117.6 L 59.3 117.6\"></path><path d=\"M 176.1 103.6 L 57.0 103.6\"></path><path d=\"M 176.1 89.7 L 51.0 89.7\"></path><path d=\"M 176.1 75.8 L 53.5 75.8\"></path><path d=\"M 176.1 61.8 L 51.0 61.8\"></path></g><g class=\"toytree-TipLabels\" style=\"fill:rgb(14.9%,14.9%,14.9%);fill-opacity:1.0;font-family:helvetica;font-size:11px;font-weight:normal;stroke:none;white-space:pre\"><g transform=\"translate(176.13,424.17)rotate(0)\"><text style=\"\" x=\"15.00\" y=\"2.81\">ZM00042AB208440_P001</text></g><g transform=\"translate(176.13,410.24)rotate(0)\"><text style=\"\" x=\"15.00\" y=\"2.81\">ZM00040AB213700_P001</text></g><g transform=\"translate(176.13,396.30)rotate(0)\"><text style=\"\" x=\"15.00\" y=\"2.81\">ZM00023AB205790_P001</text></g><g transform=\"translate(176.13,382.36)rotate(0)\"><text style=\"\" x=\"15.00\" y=\"2.81\">ZM00026AB202080_P001</text></g><g transform=\"translate(176.13,368.43)rotate(0)\"><text style=\"\" x=\"15.00\" y=\"2.81\">ZM00020AB203020_P001</text></g><g transform=\"translate(176.13,354.49)rotate(0)\"><text style=\"\" x=\"15.00\" y=\"2.81\">ZM00038AB203290_P001</text></g><g transform=\"translate(176.13,340.55)rotate(0)\"><text style=\"\" x=\"15.00\" y=\"2.81\">ZM00030AB201330_P001</text></g><g transform=\"translate(176.13,326.62)rotate(0)\"><text style=\"\" x=\"15.00\" y=\"2.81\">ZM00036AB205570_P001</text></g><g transform=\"translate(176.13,312.68)rotate(0)\"><text style=\"\" x=\"15.00\" y=\"2.81\">ZM00018AB207760_P001</text></g><g transform=\"translate(176.13,298.75)rotate(0)\"><text style=\"\" x=\"15.00\" y=\"2.81\">ZM00019AB190200_P001</text></g><g transform=\"translate(176.13,284.81)rotate(0)\"><text style=\"\" x=\"15.00\" y=\"2.81\">ZM00033AB212370_P001</text></g><g transform=\"translate(176.13,270.87)rotate(0)\"><text style=\"\" x=\"15.00\" y=\"2.81\">ZM00039AB204460_P001</text></g><g transform=\"translate(176.13,256.94)rotate(0)\"><text style=\"\" x=\"15.00\" y=\"2.81\">ZM00021AB202840_P001</text></g><g transform=\"translate(176.13,243.00)rotate(0)\"><text style=\"\" x=\"15.00\" y=\"2.81\">ZM00037AB202220_P001</text></g><g transform=\"translate(176.13,229.06)rotate(0)\"><text style=\"\" x=\"15.00\" y=\"2.81\">ZM00041AB208620_P001</text></g><g transform=\"translate(176.13,215.13)rotate(0)\"><text style=\"\" x=\"15.00\" y=\"2.81\">ZM00028AB205830_P001</text></g><g transform=\"translate(176.13,201.19)rotate(0)\"><text style=\"\" x=\"15.00\" y=\"2.81\">ZM00032AB206910_P001</text></g><g transform=\"translate(176.13,187.25)rotate(0)\"><text style=\"\" x=\"15.00\" y=\"2.81\">ZM00027AB203620_P001</text></g><g transform=\"translate(176.13,173.32)rotate(0)\"><text style=\"\" x=\"15.00\" y=\"2.81\">ZM00031AB207970_P001</text></g><g transform=\"translate(176.13,159.38)rotate(0)\"><text style=\"\" x=\"15.00\" y=\"2.81\">ZM00034AB212110_P001</text></g><g transform=\"translate(176.13,145.45)rotate(0)\"><text style=\"\" x=\"15.00\" y=\"2.81\">ZM00024AB203470_P001</text></g><g transform=\"translate(176.13,131.51)rotate(0)\"><text style=\"\" x=\"15.00\" y=\"2.81\">ZM00022AB202710_P001</text></g><g transform=\"translate(176.13,117.57)rotate(0)\"><text style=\"\" x=\"15.00\" y=\"2.81\">ZM00029AB207050_P001</text></g><g transform=\"translate(176.13,103.64)rotate(0)\"><text style=\"\" x=\"15.00\" y=\"2.81\">ZM00035AB206490_P001</text></g><g transform=\"translate(176.13,89.70)rotate(0)\"><text style=\"\" x=\"15.00\" y=\"2.81\">ZM00001EB200120_P001</text></g><g transform=\"translate(176.13,75.76)rotate(0)\"><text style=\"\" x=\"15.00\" y=\"2.81\">test</text></g><g transform=\"translate(176.13,61.83)rotate(0)\"><text style=\"\" x=\"15.00\" y=\"2.81\">ZM00025AB207720_P001</text></g></g></g></g></g></svg><div class=\"toyplot-behavior\"><script>(function()\n",
              "{\n",
              "var modules={};\n",
              "})();</script></div></div>"
            ]
          },
          "metadata": {}
        }
      ]
    },
    {
      "cell_type": "code",
      "source": [
        "#@title This block will tell you if your sequence falls within a highly variable clade.\n",
        "if is_hv:\n",
        "  print(\"Your protein belongs to a highly variable clade.\")\n",
        "else:\n",
        "  print(\"Your protein is not in a highly variable clade.\")\n"
      ],
      "metadata": {
        "colab": {
          "base_uri": "https://localhost:8080/"
        },
        "cellView": "form",
        "id": "HrnvMN0D4N1l",
        "outputId": "ecf0afbd-f18f-43f9-a1e4-fd8916764bd3"
      },
      "execution_count": 67,
      "outputs": [
        {
          "output_type": "stream",
          "name": "stdout",
          "text": [
            "Your protein is not in a highly variable clade.\n"
          ]
        }
      ]
    },
    {
      "cell_type": "code",
      "source": [
        "#@title Above ends the process of tree creation. Here we create a Shannon Entropy model (receommended for proteins in highly variable clades), and print the graphed entropy results.\n",
        "def entropy(string):\n",
        "    \"Calculates the Shannon entropy of a string\"\n",
        "    string = string.replace(\"-\",\"\")\n",
        "    # get probability of chars in string\n",
        "    prob = [ float(string.count(c)) / len(string) for c in dict.fromkeys(list(\"ARNDCQEGHILKMFPSTWYV\")) ]\n",
        "\n",
        "    # calculate the entropy\n",
        "    entropy = - sum([ p * math.log(p) / math.log(2.0) for p in prob if p > 0])\n",
        "\n",
        "    return entropy\n",
        "\n",
        "gene = query_sequence\n",
        "cn = jobname_unhashed\n",
        "file_oi = jobname + \".updated.afa\"\n",
        "\n",
        "align = AlignIO.read(file_oi, \"fasta\")\n",
        "\n",
        "length = len(align[1,:])\n",
        "entropies = []\n",
        "for i in range(length):\n",
        "  col = align[:,i]\n",
        "  if col[len(align) - 1] == \"-\":\n",
        "    continue\n",
        "  entropies.append(entropy(col))\n",
        "\n",
        "f = open(jobname+\"_Chimera_Entropy.txt\", \"w\")\n",
        "f.write(\"attribute: shannonEntropy\\n\")\n",
        "f.write(\"match mode: 1-to-1\\n\")\n",
        "f.write(\"recipient: residues\\n\")\n",
        "for i in range(1,len(entropies)+1):\n",
        "  f.write(\"\\t:\")\n",
        "  f.write(str(i))\n",
        "  f.write(\"\\t\")\n",
        "  f.write(str(entropies[i-1]))\n",
        "  f.write(\"\\n\")\n",
        "\n",
        "ylim = max(max(entropies), 2.5)\n",
        "\n",
        "plt.ylim(0,ylim);\n",
        "plt.plot(entropies);\n",
        "plt.xlabel(\"Residue Number\");\n",
        "plt.ylabel(\"Entropy (bits)\");\n",
        "plt.title(\"Shannon Entropy of \"+jobname_unhashed);\n",
        "plt.savefig(jobname + \"_Entropy_MaskedNG\");\n",
        "\n",
        "shannon_created = True"
      ],
      "metadata": {
        "id": "8jQ1PVHumQPY",
        "colab": {
          "base_uri": "https://localhost:8080/",
          "height": 295
        },
        "cellView": "form",
        "outputId": "b6c1d036-593f-45f7-9576-bbb778e53314"
      },
      "execution_count": 68,
      "outputs": [
        {
          "output_type": "display_data",
          "data": {
            "image/png": "[encoded data removed]",
            "text/plain": [
              "<Figure size 432x288 with 1 Axes>"
            ]
          },
          "metadata": {
            "needs_background": "light"
          }
        }
      ]
    },
    {
      "cell_type": "code",
      "source": [
        "#@title Download Results\n",
        "#@markdown If you are having issues downloading the result archive, try disabling your adblocker and run this cell again. If that fails click on the folder icon to the left, navigate to /content, and manually download {jobname}_results.zip.\n",
        "\n",
        "new_folder = jobname_unhashed + \"_results\"\n",
        "!mkdir {new_folder}\n",
        "!mv {jobname}.updated.afa {new_folder}\n",
        "!mv epa_result.newick {new_folder}\n",
        "if shannon_created:\n",
        "  %mv {jobname}_Chimera_Entropy.txt {new_folder}\n",
        "  %mv {jobname}_Entropy_MaskedNG.png {new_folder}\n",
        "\n",
        "!mv {new_folder} ../../../\n",
        "%cd /content\n",
        "!zip -r {new_folder}.zip {new_folder}\n",
        "res = new_folder + \".zip\"\n",
        "files.download(res)"
      ],
      "metadata": {
        "cellView": "form",
        "id": "t_WrYFpewM-d"
      },
      "execution_count": null,
      "outputs": []
    },
    {
      "cell_type": "markdown",
      "source": [
        "Sources:"
      ],
      "metadata": {
        "id": "jjRU5Eh-57jS"
      }
    }
  ]
}